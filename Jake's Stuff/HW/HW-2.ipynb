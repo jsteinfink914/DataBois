{
  "cells": [
    {
      "cell_type": "raw",
      "metadata": {},
      "source": [
        "---\n",
        "title: 'HW-2: Subset selection'\n",
        "author: Dr. Purna Gamage\n",
        "format:\n",
        "  html:\n",
        "    embed-resources: true\n",
        "---"
      ]
    },
    {
      "cell_type": "markdown",
      "metadata": {},
      "source": [
        "**Instructions**\n",
        "\n",
        "* Read and complete all exercises below in the provided `.rmd` notebook \n",
        "[click here to download the notebook for the assignment](HW-2.rmd.zip)\n",
        "\n",
        "**Submission:**\n",
        "\n",
        "* You need to upload ONE document to Canvas when you are done. \n",
        "* A PDF (or HTML) of the completed form of this notebook\n",
        "* The final uploaded version should NOT have any code-errors present. \n",
        "* All outputs must be visible in the uploaded version, including code-cell outputs, images, graphs, etc\n",
        "\n",
        "**Optional**: \n",
        "\n",
        "* You can actually work in `R` now inside VS-code using the `.ipynb` format\n",
        "* Its quite easy to get working: [click here for instructions](https://www.practicaldatascience.org/html/jupyter_r_notebooks.html)\n",
        "* There are a few benefits to this \n",
        "  * (1) You can work 100% in VS-Code (for both R and Python), no need to switch between VSC and R-studio\n",
        "  * (2) You can work through your cells one at a time and see the incremental progress, similar to using `.ipynb` with python or `rmd` in R-studio.\n",
        "* With Quarto's `convert` command, you can re-format and jump between the different file-formats. For example, \n",
        "* `quarto convert HW-2.rmd` will convert the file to `HW-2.ipynb`\n",
        "* `quarto convert HW-2.ipynb` will convert the file to `HW-2.qmd`, which can be renamed `HW-2.rmd` or just opened in R-studio like any other `rmd` file, just like normal.\n",
        "* `quarto render HW-2.ipynb` will render the notebook (either R or Python) into an aesthetically pleasing output."
      ]
    },
    {
      "cell_type": "code",
      "execution_count": 105,
      "metadata": {
        "vscode": {
          "languageId": "r"
        }
      },
      "outputs": [],
      "source": [
        "#knitr::opts_chunk$set(include = FALSE) # for making prompts\n",
        "knitr::opts_chunk$set(echo = TRUE) # for making solutions\n",
        "library(tidyverse)\n",
        "library(modeldata)\n",
        "library(leaps)\n",
        "library(caret)\n",
        "library(corrplot)"
      ]
    },
    {
      "cell_type": "markdown",
      "metadata": {},
      "source": [
        "## HW-2.1: Heating values\n",
        "Use best subset selection methods to determine the best heating values\n",
        "\n",
        "For bioenergy production, the heating value is a measure of the amount of heat released during combustion. The Higher heating value (HHV) is a particular method for determining the heat released during combustion. The higher HHV the more energy released for a given amount of material. You will use the `biomass` dataset from the `modeldata` package. Run a `?biomass` after importing the data to read about the domain. The response variable is HHV and the predictor variables are the percentages of different elements. Do not include the sample and dataset variables in your analysis.\n",
        "\n",
        "**HW-2.1.a**\n",
        "Create scatter-plots of the response and predictor variables and comment on your findings."
      ]
    },
    {
      "cell_type": "code",
      "execution_count": 106,
      "metadata": {
        "vscode": {
          "languageId": "r"
        }
      },
      "outputs": [
        {
          "name": "stdout",
          "output_type": "stream",
          "text": [
            "[1] \"data.frame\"\n",
            "[1] 536   8\n",
            "                  sample  dataset carbon hydrogen oxygen nitrogen sulfur    HHV\n",
            "1           Akhrot Shell Training  49.81     5.64  42.94     0.41   0.00 20.008\n",
            "2 Alabama Oak Wood Waste Training  49.50     5.70  41.30     0.20   0.00 19.228\n",
            "3                  Alder Training  47.82     5.80  46.25     0.11   0.02 18.299\n"
          ]
        }
      ],
      "source": [
        "# IMPORT \n",
        "data(biomass)\n",
        "\n",
        "# EXPLORE DATA\n",
        "print(class(biomass))\n",
        "print(dim(biomass))\n",
        "print(biomass[1:3,1:8])"
      ]
    },
    {
      "cell_type": "code",
      "execution_count": 107,
      "metadata": {
        "vscode": {
          "languageId": "r"
        }
      },
      "outputs": [
        {
          "data": {
            "image/png": "[encoded data removed]",
            "text/plain": [
              "plot without title"
            ]
          },
          "metadata": {
            "image/png": {
              "height": 420,
              "width": 420
            }
          },
          "output_type": "display_data"
        }
      ],
      "source": [
        "biomass[,3:8] %>%\n",
        "  pivot_longer(cols = c('carbon','hydrogen','oxygen','nitrogen','sulfur')) %>%\n",
        "  ggplot(., aes(HHV, value))+\n",
        "  geom_point()+\n",
        "  ggtitle('Scatterplot of Predictors and Response')+\n",
        "  facet_wrap(~name)"
      ]
    },
    {
      "cell_type": "markdown",
      "metadata": {},
      "source": [
        "Based on the scatterplots we cna see that carbon has a strong positive correlation with HHV, and oxygen a decent negative correlation. This makes sense, as carbon burns to create energy which releases CO2 and H2O. The negative correlation with oxygen is likely due to the fact that the more oxygen levels rise, the less carbon there is. The rest of the gases have no noticeable correlation, but are also on a completely different scale as they are very minor parts of the gaseous makeup.\n",
        "\n",
        "**HW-2.1.b** \n",
        "Split the dataset into an 80-20 training and test sets."
      ]
    },
    {
      "cell_type": "code",
      "execution_count": 108,
      "metadata": {
        "vscode": {
          "languageId": "r"
        }
      },
      "outputs": [],
      "source": [
        "set.seed(100)\n",
        "indices <- sample(1:nrow(biomass),floor(.8*nrow(biomass)))\n",
        "train <- biomass[indices,3:8]\n",
        "test <- biomass[!1:nrow(biomass) %in% indices,3:8]"
      ]
    },
    {
      "cell_type": "markdown",
      "metadata": {},
      "source": [
        "**HW-2.1.c** \n",
        "Use `regsubsets()` to perform **best subset selection** to pick the best model according to $C_p$, BIC, and adjusted $R^2$."
      ]
    },
    {
      "cell_type": "code",
      "execution_count": 109,
      "metadata": {
        "vscode": {
          "languageId": "r"
        }
      },
      "outputs": [
        {
          "name": "stdout",
          "output_type": "stream",
          "text": [
            "Best model according to Cp: 3 \n",
            " Best model according to BIC: 3 \n",
            " Best model according to adjusted R2: 3 \n",
            "\n",
            " Model 3: \n",
            "\n",
            "  carbon hydrogen   oxygen nitrogen   sulfur \n",
            "     \"*\"      \"*\"      \" \"      \" \"      \"*\" \n"
          ]
        }
      ],
      "source": [
        "##Fit full model\n",
        "reg <- regsubsets(HHV ~.,data = biomass[,3:8], method = 'exhaustive')\n",
        "reg_sum <- summary(reg)\n",
        "\n",
        "\n",
        "# Find the best model according to Cp\n",
        "best_model_cp <- which.min(reg_sum$cp)\n",
        "\n",
        "# Find the best model according to BIC\n",
        "best_model_bic <- which.min(reg_sum$bic)\n",
        "\n",
        "# Find the best model according to adjusted R2\n",
        "best_model_adjr2 <- which.max(reg_sum$adjr2)\n",
        "\n",
        "# Print the best models according to each criterion\n",
        "cat(\"Best model according to Cp:\", best_model_cp, \"\\n\",\n",
        "    \"Best model according to BIC:\", best_model_bic, \"\\n\",\n",
        "    \"Best model according to adjusted R2:\", best_model_adjr2, \"\\n\\n\",\n",
        "    \"Model 3:\",\"\\n\\n\")\n",
        "print(reg_sum$outmat[best_model_cp,])"
      ]
    },
    {
      "cell_type": "markdown",
      "metadata": {},
      "source": [
        "**HW-2.1.d** \n",
        "Repeat this procedure for **forward stepwise selection** and **backward stepwise selection**, compare the best models from each selection method."
      ]
    },
    {
      "cell_type": "code",
      "execution_count": 110,
      "metadata": {
        "vscode": {
          "languageId": "r"
        }
      },
      "outputs": [
        {
          "name": "stdout",
          "output_type": "stream",
          "text": [
            "Best forward selection model according to Cp: 3 \n",
            " Best forward selection model according to BIC: 3 \n",
            " Best forward selection model according to adjusted R2: 3 \n",
            "\n",
            " Model 3: \n",
            "\n",
            "  carbon hydrogen   oxygen nitrogen   sulfur \n",
            "     \"*\"      \"*\"      \" \"      \" \"      \"*\" \n"
          ]
        }
      ],
      "source": [
        "##Fit full model\n",
        "forward <- regsubsets(HHV ~.,data = biomass[,3:8], method = 'forward')\n",
        "forward_sum <- summary(forward)\n",
        "\n",
        "\n",
        "# Find the best model according to Cp\n",
        "best_model_forward_cp <- which.min(forward_sum$cp)\n",
        "\n",
        "# Find the best model according to BIC\n",
        "best_model_forward_bic <- which.min(forward_sum$bic)\n",
        "\n",
        "# Find the best model according to adjusted R2\n",
        "best_model_forward_adjr2 <- which.max(forward_sum$adjr2)\n",
        "\n",
        "# Print the best models according to each criterion\n",
        "cat(\"Best forward selection model according to Cp:\", best_model_forward_cp, \"\\n\",\n",
        "    \"Best forward selection model according to BIC:\", best_model_forward_bic, \"\\n\",\n",
        "    \"Best forward selection model according to adjusted R2:\", best_model_forward_adjr2, \"\\n\\n\",\n",
        "     \"Model 3:\",\"\\n\\n\")\n",
        "print(forward_sum$outmat[best_model_forward_cp,])"
      ]
    },
    {
      "cell_type": "code",
      "execution_count": 111,
      "metadata": {
        "vscode": {
          "languageId": "r"
        }
      },
      "outputs": [
        {
          "name": "stdout",
          "output_type": "stream",
          "text": [
            "Best backward selection model according to Cp: 3 \n",
            " Best backward selection model according to BIC: 3 \n",
            " Best backward selection model according to adjusted R2: 3 \n",
            "\n",
            " Model 3: \n",
            "\n",
            "  carbon hydrogen   oxygen nitrogen   sulfur \n",
            "     \"*\"      \"*\"      \" \"      \" \"      \"*\" \n"
          ]
        }
      ],
      "source": [
        "#Fit full model\n",
        "backward <- regsubsets(HHV ~.,data = biomass[,3:8], method = 'backward')\n",
        "backward_sum <- summary(backward)\n",
        "\n",
        "\n",
        "# Find the best model according to Cp\n",
        "best_model_backward_cp <- which.min(backward_sum$cp)\n",
        "\n",
        "# Find the best model according to BIC\n",
        "best_model_backward_bic <- which.min(backward_sum$bic)\n",
        "\n",
        "# Find the best model according to adjusted R2\n",
        "best_model_backward_adjr2 <- which.max(backward_sum$adjr2)\n",
        "# Print the best models according to each criterion\n",
        "cat(\"Best backward selection model according to Cp:\", best_model_backward_cp, \"\\n\",\n",
        "    \"Best backward selection model according to BIC:\", best_model_backward_bic, \"\\n\",\n",
        "    \"Best backward selection model according to adjusted R2:\", best_model_backward_adjr2, \"\\n\\n\",\n",
        "     \"Model 3:\",\"\\n\\n\")\n",
        "print(backward_sum$outmat[best_model_backward_cp,])"
      ]
    },
    {
      "cell_type": "markdown",
      "metadata": {},
      "source": [
        "**HW-2.1.e** \n",
        "Use the `predict()` function to investigate the test performance in RMSE using your \"best model\"."
      ]
    },
    {
      "cell_type": "code",
      "execution_count": 112,
      "metadata": {
        "vscode": {
          "languageId": "r"
        }
      },
      "outputs": [
        {
          "name": "stdout",
          "output_type": "stream",
          "text": [
            "RMSE for Model 3: 1.127256"
          ]
        }
      ],
      "source": [
        "## Using model 3\n",
        "model <- lm(HHV ~ carbon + hydrogen + sulfur, data = train)\n",
        "test_pred <- predict(model, test)\n",
        "cat(\"RMSE for Model 3:\",RMSE(test_pred, test$HHV))"
      ]
    },
    {
      "attachments": {},
      "cell_type": "markdown",
      "metadata": {},
      "source": [
        "## HW-2.2: Loan applications\n",
        "Create your own cross validation algorithm to predict the interest rate for loan applications\n",
        "\n",
        "Lending club gained fame for being one of the first major players in retail lending. The dataset `lending_club` in the `model_data` package includes 9,857 loans that were provided. Interest rates of loans are often a good indicator of the level of risk associated with lending. If you are likely to pay back a loan, then you will likely be charged lower interest than someone who has a higher chance of default. Your goal is to determine the best model for predicting the interest rate charged to borrowers using best, forward, and backward subset selection within a five-fold cross-validation framework.\n",
        "\n",
        "Prep steps:\n",
        "- drop all rows with missing data in the following columns \n",
        "\n",
        "\n",
        "**HW-2.2.a** \n",
        "Create a correlation plot of all the numeric variables in the dataset using the `corrplot` package to create a high quality graph, then comment on your findings"
      ]
    },
    {
      "cell_type": "code",
      "execution_count": 113,
      "metadata": {
        "vscode": {
          "languageId": "r"
        }
      },
      "outputs": [
        {
          "data": {
            "image/png": "[encoded data removed]",
            "text/plain": [
              "Plot with title \"\""
            ]
          },
          "metadata": {
            "image/png": {
              "height": 420,
              "width": 420
            }
          },
          "output_type": "display_data"
        }
      ],
      "source": [
        "lending_club %>%\n",
        "  select_if(is.numeric) %>%\n",
        "  cor() %>%\n",
        "  corrplot(., method = \"color\", type = \"upper\", order = \"hclust\",\n",
        "            addCoef.col = \"black\", tl.col=\"black\", tl.srt=45, addCoefasPercent = T,\n",
        "           diag = F, number.cex = 0.8, col = colorRampPalette(c(\"blue\",'white','red'))(50))"
      ]
    },
    {
      "attachments": {},
      "cell_type": "markdown",
      "metadata": {},
      "source": [
        "What we see in the correlation plot is a number of positive correlations. In the bottom right we see that total balance is correlated with credit limit, the number of accounts opened in the last 6 months, and the number of loans. Revolving utilization is correlated with all utilization which makes sense as the higher amount of credit utilization one loan has directly contributed to the total utilization. Delinquency in the last 12 months is positively correlated with interest rate as well because interest rate scales with loan risk.\n",
        "\n",
        "**HW-2.2.b** \n",
        "Run best, forward, and backward subset selection on the entire dataset comment on the findings"
      ]
    },
    {
      "cell_type": "code",
      "execution_count": 114,
      "metadata": {
        "vscode": {
          "languageId": "r"
        }
      },
      "outputs": [],
      "source": [
        "lending_club <- lending_club %>% select_if(is.numeric)"
      ]
    },
    {
      "cell_type": "code",
      "execution_count": 115,
      "metadata": {
        "vscode": {
          "languageId": "r"
        }
      },
      "outputs": [
        {
          "name": "stdout",
          "output_type": "stream",
          "text": [
            "Best model according to Cp: 12 \n",
            " Best model according to BIC: 10 \n",
            " Best model according to adjusted R2: 14 \n"
          ]
        }
      ],
      "source": [
        "# Running best selection\n",
        "##Fit full model\n",
        "reg <- regsubsets(int_rate ~.,data = lending_club, method = 'exhaustive', nvmax = 16)\n",
        "reg_sum <- summary(reg)\n",
        "\n",
        "\n",
        "# Find the best model according to Cp\n",
        "best_model_cp <- which.min(reg_sum$cp)\n",
        "\n",
        "# Find the best model according to BIC\n",
        "best_model_bic <- which.min(reg_sum$bic)\n",
        "\n",
        "# Find the best model according to adjusted R2\n",
        "best_model_adjr2 <- which.max(reg_sum$adjr2)\n",
        "\n",
        "# Print the best models according to each criterion\n",
        "cat(\"Best model according to Cp:\", best_model_cp, \"\\n\",\n",
        "    \"Best model according to BIC:\", best_model_bic, \"\\n\",\n",
        "    \"Best model according to adjusted R2:\", best_model_adjr2, \"\\n\")"
      ]
    },
    {
      "cell_type": "code",
      "execution_count": 116,
      "metadata": {
        "vscode": {
          "languageId": "r"
        }
      },
      "outputs": [
        {
          "name": "stdout",
          "output_type": "stream",
          "text": [
            "Best forward selection model according to Cp: 12 \n",
            " Best forward selection model according to BIC: 10 \n",
            " Best forward selection model according to adjusted R2: 14 \n"
          ]
        }
      ],
      "source": [
        "## Forward selection\n",
        "##Fit full model\n",
        "forward <- regsubsets(int_rate ~.,data = lending_club, method = 'forward', nvmax = 16)\n",
        "forward_sum <- summary(forward)\n",
        "\n",
        "\n",
        "# Find the best model according to Cp\n",
        "best_model_forward_cp <- which.min(forward_sum$cp)\n",
        "\n",
        "# Find the best model according to BIC\n",
        "best_model_forward_bic <- which.min(forward_sum$bic)\n",
        "\n",
        "# Find the best model according to adjusted R2\n",
        "best_model_forward_adjr2 <- which.max(forward_sum$adjr2)\n",
        "\n",
        "# Print the best models according to each criterion\n",
        "cat(\"Best forward selection model according to Cp:\", best_model_forward_cp, \"\\n\",\n",
        "    \"Best forward selection model according to BIC:\", best_model_forward_bic, \"\\n\",\n",
        "    \"Best forward selection model according to adjusted R2:\", best_model_forward_adjr2, \"\\n\")"
      ]
    },
    {
      "cell_type": "code",
      "execution_count": 117,
      "metadata": {
        "vscode": {
          "languageId": "r"
        }
      },
      "outputs": [
        {
          "name": "stdout",
          "output_type": "stream",
          "text": [
            "Best backward selection model according to Cp: 12 \n",
            " Best backward selection model according to BIC: 10 \n",
            " Best backward selection model according to adjusted R2: 14 \n"
          ]
        }
      ],
      "source": [
        "## Backward selection\n",
        "#Fit full model\n",
        "backward <- regsubsets(int_rate ~.,data = lending_club, method = 'backward', nvmax = 16)\n",
        "backward_sum <- summary(backward)\n",
        "\n",
        "\n",
        "# Find the best model according to Cp\n",
        "best_model_backward_cp <- which.min(backward_sum$cp)\n",
        "\n",
        "# Find the best model according to BIC\n",
        "best_model_backward_bic <- which.min(backward_sum$bic)\n",
        "\n",
        "# Find the best model according to adjusted R2\n",
        "best_model_backward_adjr2 <- which.max(backward_sum$adjr2)\n",
        "# Print the best models according to each criterion\n",
        "cat(\"Best backward selection model according to Cp:\", best_model_backward_cp, \"\\n\",\n",
        "    \"Best backward selection model according to BIC:\", best_model_backward_bic, \"\\n\",\n",
        "    \"Best backward selection model according to adjusted R2:\", best_model_backward_adjr2, \"\\n\")"
      ]
    },
    {
      "cell_type": "code",
      "execution_count": 118,
      "metadata": {
        "vscode": {
          "languageId": "r"
        }
      },
      "outputs": [
        {
          "data": {
            "image/png": "[encoded data removed]",
            "text/plain": [
              "plot without title"
            ]
          },
          "metadata": {
            "image/png": {
              "height": 420,
              "width": 420
            }
          },
          "output_type": "display_data"
        }
      ],
      "source": [
        "## RESULTS SUMMARY\n",
        "bic <- data.frame(model = 1:length(forward_sum$bic), forward = forward_sum$bic, backward = backward_sum$bic, best = reg_sum$bic)\n",
        "r2 <- data.frame(model = 1:length(forward_sum$adjr2), forward = forward_sum$adjr2, backward = backward_sum$adjr2, best = reg_sum$adjr2)\n",
        "cp <- data.frame(model = 1:length(forward_sum$cp),forward = forward_sum$cp, backward = backward_sum$cp, best = reg_sum$cp)\n",
        "\n",
        "bic_fig <- \n",
        "  bic %>% \n",
        "  pivot_longer(cols = c('forward','backward','best'))%>%\n",
        "  ggplot(., aes(model, value, color = name))+\n",
        "  geom_line()+\n",
        "  ggtitle('Best Model According to BIC')+\n",
        "  xlab('BIC')\n",
        "\n",
        "r2_fig <- \n",
        "  r2 %>% \n",
        "  pivot_longer(cols = c('forward','backward','best'))%>%\n",
        "  ggplot(., aes(model, value, color = name))+\n",
        "  geom_line()+\n",
        "  ggtitle('Best Model According to AdjR2')+\n",
        "  xlab('AdjR2')\n",
        "\n",
        "cp_fig <- \n",
        "  cp %>% \n",
        "  pivot_longer(cols = c('forward','backward','best'))%>%\n",
        "  ggplot(., aes(model, value, color = name))+\n",
        "  geom_line()+\n",
        "  ggtitle('Best Model According to C_p')+\n",
        "  xlab('C_p')\n",
        "               \n",
        "gridExtra::grid.arrange(bic_fig, r2_fig, cp_fig, ncol = 2)\n"
      ]
    },
    {
      "attachments": {},
      "cell_type": "markdown",
      "metadata": {},
      "source": [
        "All of the metrics appear to converge to local minima or maxima around model 8 and stay at the low thereafter. Models 10,12, and 14 all show up as optimal model choices accoriding to BIC and Adj R2 in best subset, forward, and backward subset selection, so these 3 will be used going forward."
      ]
    },
    {
      "cell_type": "code",
      "execution_count": 119,
      "metadata": {
        "vscode": {
          "languageId": "r"
        }
      },
      "outputs": [
        {
          "name": "stdout",
          "output_type": "stream",
          "text": [
            "[1] \"Model 10 coeffs:\"\n",
            "   (Intercept)    funded_amnt     annual_inc    delinq_2yrs inq_last_6mths \n",
            "  7.050072e+00   1.282613e-04  -2.608184e-05   2.659949e-01   9.424299e-01 \n",
            "    revol_util    open_il_12m    open_il_24m       all_util   inq_last_12m \n",
            "  2.540247e-02   6.351357e-01   2.877182e-01   4.518823e-02   2.772290e-01 \n",
            "     num_il_tl \n",
            " -7.622531e-02 \n",
            "\n",
            " Model 12 coeffs: \n",
            "   (Intercept)    funded_amnt     annual_inc    delinq_2yrs inq_last_6mths \n",
            "  7.002644e+00   1.280349e-04  -2.599217e-05   2.587385e-01   9.452911e-01 \n",
            "    revol_util acc_now_delinq     open_il_6m    open_il_12m    open_il_24m \n",
            "  2.448738e-02   1.030257e+00  -4.141879e-02   6.331772e-01   2.906753e-01 \n",
            "      all_util   inq_last_12m      num_il_tl \n",
            "  4.725760e-02   2.746584e-01  -6.733086e-02 \n",
            "\n",
            " Model 14 coeffs: \n",
            "   (Intercept)    funded_amnt     annual_inc    delinq_2yrs inq_last_6mths \n",
            "  7.051213e+00   1.274567e-04  -2.624692e-05   2.564677e-01   9.517292e-01 \n",
            "    revol_util acc_now_delinq     open_il_6m    open_il_12m    open_il_24m \n",
            "  2.503193e-02   1.018382e+00  -4.743933e-02   6.427246e-01   2.758938e-01 \n",
            "  total_bal_il       all_util         inq_fi   inq_last_12m      num_il_tl \n",
            "  1.763664e-06   4.624976e-02   4.751833e-02   2.584355e-01  -7.046121e-02 \n"
          ]
        }
      ],
      "source": [
        "print(\"Model 10 coeffs:\")\n",
        "print(coef(backward, id = 10))\n",
        "cat(\"\\n\", \"Model 12 coeffs:\", \"\\n\")\n",
        "print(coef(backward, id = 12))\n",
        "cat(\"\\n\", \"Model 14 coeffs:\", \"\\n\")\n",
        "print(coef(backward, id = 14))\n"
      ]
    },
    {
      "cell_type": "markdown",
      "metadata": {},
      "source": [
        "**HW-2.2.c** \n",
        "Create a five-fold cross-validation algorithm using for loops to compare the CV mse performance of your best two models"
      ]
    },
    {
      "cell_type": "code",
      "execution_count": 120,
      "metadata": {
        "vscode": {
          "languageId": "r"
        }
      },
      "outputs": [],
      "source": [
        "## CV algorithm\n",
        "CV <- function(data, k = 5){\n",
        "  cutoff <- floor(nrow(data)/k)\n",
        "  mse_model1 <- c()\n",
        "  mse_model2 <- c()\n",
        "  mse_model3 <- c()\n",
        "  for (i in 1:k){\n",
        "    start <- 1 + ((i-1) * cutoff)\n",
        "    stop <- start + cutoff+1\n",
        "    train <- data[!1:nrow(data) %in% start:stop,]\n",
        "    test <- data[start:stop,]\n",
        "    model1 <- lm(int_rate ~ \n",
        "                funded_amnt + annual_inc + delinq_2yrs + inq_last_6mths + revol_util + open_il_12m + open_il_24m + all_util + inq_last_12m + num_il_tl, \n",
        "                data = train)\n",
        "    model2 <- lm(int_rate ~\n",
        "                funded_amnt + annual_inc + delinq_2yrs + inq_last_6mths + revol_util + acc_now_delinq + open_il_6m + open_il_12m + open_il_24m + all_util + inq_last_12m + num_il_tl,\n",
        "                 data = train)\n",
        "    model3 <- lm(int_rate ~ \n",
        "                  funded_amnt + annual_inc + delinq_2yrs + inq_last_6mths + revol_util + acc_now_delinq + open_il_6m + open_il_12m + open_il_24m + total_bal_il + inq_fi + all_util + inq_last_12m + num_il_tl,\n",
        "                  data = train)\n",
        "    predict1 <- predict(model1, test)\n",
        "    predict2 <- predict(model2, test)\n",
        "    predict3 <- predict(model3, test)\n",
        "    mse_model1 <- c(mse_model1, RMSE(predict1, test$int_rate)**2)\n",
        "    mse_model2 <- c(mse_model2, RMSE(predict2, test$int_rate)**2)\n",
        "    mse_model3 <- c(mse_model3, RMSE(predict3, test$int_rate)**2)\n",
        "  }\n",
        "  return(c(\"Model 10 MSE\" = round(mean(mse_model1),4), \"Model 12 MSE\" = round(mean(mse_model2),4), \"Model 14 MSE\" = round(mean(mse_model3),4)))\n",
        "}"
      ]
    },
    {
      "cell_type": "code",
      "execution_count": 121,
      "metadata": {
        "vscode": {
          "languageId": "r"
        }
      },
      "outputs": [
        {
          "data": {
            "text/html": [
              "<style>\n",
              ".dl-inline {width: auto; margin:0; padding: 0}\n",
              ".dl-inline>dt, .dl-inline>dd {float: none; width: auto; display: inline-block}\n",
              ".dl-inline>dt::after {content: \":\\0020\"; padding-right: .5ex}\n",
              ".dl-inline>dt:not(:first-of-type) {padding-left: .5ex}\n",
              "</style><dl class=dl-inline><dt>Model 10 MSE</dt><dd>17.5569</dd><dt>Model 12 MSE</dt><dd>17.5526</dd><dt>Model 14 MSE</dt><dd>17.55</dd></dl>\n"
            ],
            "text/latex": [
              "\\begin{description*}\n",
              "\\item[Model 10 MSE] 17.5569\n",
              "\\item[Model 12 MSE] 17.5526\n",
              "\\item[Model 14 MSE] 17.55\n",
              "\\end{description*}\n"
            ],
            "text/markdown": [
              "Model 10 MSE\n",
              ":   17.5569Model 12 MSE\n",
              ":   17.5526Model 14 MSE\n",
              ":   17.55\n",
              "\n"
            ],
            "text/plain": [
              "Model 10 MSE Model 12 MSE Model 14 MSE \n",
              "     17.5569      17.5526      17.5500 "
            ]
          },
          "metadata": {},
          "output_type": "display_data"
        }
      ],
      "source": [
        "CV(lending_club)"
      ]
    },
    {
      "attachments": {},
      "cell_type": "markdown",
      "metadata": {},
      "source": [
        "The models perform pretty poorly with MSE's well over what we were looking for. For context this would place the average miss about 4% off of what the actual interest rate was, a very sizable margin. The best model according to MSE is model 14."
      ]
    },
    {
      "attachments": {},
      "cell_type": "markdown",
      "metadata": {},
      "source": [
        "## HW-2.3: k-fold cross-validation\n",
        "\n",
        "Properties of k-fold cross validation\n",
        "\n",
        "Suppose we are given a training set with `n` observations and want to conduct `k`-fold cross-validation. Assume always that `n = km` where `m` is an integer.\n",
        "\n",
        "**HW-2.3.a** Let k = 2. Explain carefully why there are $\\frac{1}{2}\\left(\\begin{array}{c}\n",
        "n \\\\\n",
        "m\n",
        "\\end{array}\\right)$  ways to partition the data into 2 folds. 2m\n",
        "\n",
        "$\\left(\\begin{array}{c}\n",
        "n \\\\\n",
        "m\n",
        "\\end{array}\\right)$  represents the number of combinations that can arise from choosing m items from n items. The reason why we must divide this by 2 to determine how many ways we can partition into 2 folds, is to avoid overcounting. For instance, we can choose m items for fold A and the rest of the n items for B, but this formula also accounts for those same m items being in fold B and the rest in fold A. For our case, we only care about the number of unique fold combinations, not which data points are in which fold. Thus we divide by 2 to remove the cases accounting for the swaps.\n",
        "\n",
        "\n",
        "**HW-2.3.b** Let `k` = 3. Explain carefully why there are $\\frac{n!}{3!m!m!m!}$ ways to partition the data into 3 folds.\n",
        "\n",
        "The number of ways to select m items from n items is given by $\\binom{n}{m}$. Once we have chosen the m items to go in Fold A, the remaining n - m items will go into two folds, Fold B and Fold C.\n",
        "\n",
        "The remaining n - m items can be partitioned into two sets of size (n - m)/2 each to put in Fold B and Fold C respectively. The number of ways to choose (n - m)/2 items from n - m items is given by  $\\binom{n-m}{(n-m)/2}$.\n",
        "\n",
        "However, since the order in which we put the items in each fold does not matter, we need to divide the total number of ways to partition the data by the number of equivalent arrangements. There are 3! possible equivalent arrangements because we can arrange the three folds in 3! different ways. Therefore, the total number of ways to partition the data into three folds is:\n",
        "\n",
        "$\\frac{1}{3!}\\binom{n}{m}\\binom{n-m}{(n-m)/2}\\binom{n-m}{(n-m)/2}$\n",
        "\n",
        "Simplifying, we have:\n",
        "\n",
        "$\\frac{n!}{3!m!m!m!}$\n",
        "\n",
        "**HW-2.3.c**\n",
        "Guess a formula for the number of ways to partition the data into `k` folds for general `k`. Check if your formula gives the correct answer for `k=n` (leave-one-out c.v.).\n",
        "\n",
        "We have to select k sets of size m which we can do by \n",
        "$\\frac{n!}{(m!)^k}$\n",
        "\n",
        "This equation does not account for equivalent arrangements, if it did we would divide this number by k!\n",
        "\n",
        "Using this equation we can substitute k = n and get $\\frac{n!}{(1!)^n} = n!$. This represents the number of ways to partition the data in LOOCV. However, if we only want to look at non-equivalent arrangements then we divide by k! which in this case is n! which would give $\\frac{n!}{n!} = 1$ which represents the number of meaningful ways to split the data for LOOCV. The difference comes from if we care if about the difference between splitting a 100 row dataset into 1:99 and 100 or 2:100 and 1 or 1,3:100 and 2 to start vs recognizing that the order in which we create is equivalent as long as you get to every set.\n",
        "\n",
        "\n",
        "## HW-2.4: Advertising budget\n",
        "\n",
        "Using cross-validation to select best advertising budget\n",
        "\n",
        "In this problem, we use the Advertising data [download here](https://www.statlearning.com/s/Advertising.csv). We want to predict Sales from TV, Radio and Newspaper, using multiple regression with all three predictors plus up to one interaction term of these three predictors, e.g. TV * Radio or Radio * Newspaper. \n",
        "\n",
        "**HW-2.4.a** \n",
        "Should such an interaction term be included? Which one? Try to answer this question by estimating the residual standard error using 10-fold cross validation for all four possible models."
      ]
    },
    {
      "cell_type": "code",
      "execution_count": 122,
      "metadata": {
        "vscode": {
          "languageId": "r"
        }
      },
      "outputs": [
        {
          "name": "stderr",
          "output_type": "stream",
          "text": [
            "\u001b[1m\u001b[22mNew names:\n",
            "\u001b[36m•\u001b[39m `` -> `...1`\n",
            "\u001b[1mRows: \u001b[22m\u001b[34m200\u001b[39m \u001b[1mColumns: \u001b[22m\u001b[34m5\u001b[39m\n",
            "\u001b[36m──\u001b[39m \u001b[1mColumn specification\u001b[22m \u001b[36m────────────────────────────────────────────────────────\u001b[39m\n",
            "\u001b[1mDelimiter:\u001b[22m \",\"\n",
            "\u001b[32mdbl\u001b[39m (5): ...1, TV, radio, newspaper, sales\n",
            "\n",
            "\u001b[36mℹ\u001b[39m Use `spec()` to retrieve the full column specification for this data.\n",
            "\u001b[36mℹ\u001b[39m Specify the column types or set `show_col_types = FALSE` to quiet this message.\n"
          ]
        },
        {
          "name": "stdout",
          "output_type": "stream",
          "text": [
            "[1] 200   5\n"
          ]
        },
        {
          "data": {
            "text/html": [
              "<table class=\"dataframe\">\n",
              "<caption>A tibble: 6 × 5</caption>\n",
              "<thead>\n",
              "\t<tr><th scope=col>...1</th><th scope=col>TV</th><th scope=col>radio</th><th scope=col>newspaper</th><th scope=col>sales</th></tr>\n",
              "\t<tr><th scope=col>&lt;dbl&gt;</th><th scope=col>&lt;dbl&gt;</th><th scope=col>&lt;dbl&gt;</th><th scope=col>&lt;dbl&gt;</th><th scope=col>&lt;dbl&gt;</th></tr>\n",
              "</thead>\n",
              "<tbody>\n",
              "\t<tr><td>1</td><td>230.1</td><td>37.8</td><td>69.2</td><td>22.1</td></tr>\n",
              "\t<tr><td>2</td><td> 44.5</td><td>39.3</td><td>45.1</td><td>10.4</td></tr>\n",
              "\t<tr><td>3</td><td> 17.2</td><td>45.9</td><td>69.3</td><td> 9.3</td></tr>\n",
              "\t<tr><td>4</td><td>151.5</td><td>41.3</td><td>58.5</td><td>18.5</td></tr>\n",
              "\t<tr><td>5</td><td>180.8</td><td>10.8</td><td>58.4</td><td>12.9</td></tr>\n",
              "\t<tr><td>6</td><td>  8.7</td><td>48.9</td><td>75.0</td><td> 7.2</td></tr>\n",
              "</tbody>\n",
              "</table>\n"
            ],
            "text/latex": [
              "A tibble: 6 × 5\n",
              "\\begin{tabular}{lllll}\n",
              " ...1 & TV & radio & newspaper & sales\\\\\n",
              " <dbl> & <dbl> & <dbl> & <dbl> & <dbl>\\\\\n",
              "\\hline\n",
              "\t 1 & 230.1 & 37.8 & 69.2 & 22.1\\\\\n",
              "\t 2 &  44.5 & 39.3 & 45.1 & 10.4\\\\\n",
              "\t 3 &  17.2 & 45.9 & 69.3 &  9.3\\\\\n",
              "\t 4 & 151.5 & 41.3 & 58.5 & 18.5\\\\\n",
              "\t 5 & 180.8 & 10.8 & 58.4 & 12.9\\\\\n",
              "\t 6 &   8.7 & 48.9 & 75.0 &  7.2\\\\\n",
              "\\end{tabular}\n"
            ],
            "text/markdown": [
              "\n",
              "A tibble: 6 × 5\n",
              "\n",
              "| ...1 &lt;dbl&gt; | TV &lt;dbl&gt; | radio &lt;dbl&gt; | newspaper &lt;dbl&gt; | sales &lt;dbl&gt; |\n",
              "|---|---|---|---|---|\n",
              "| 1 | 230.1 | 37.8 | 69.2 | 22.1 |\n",
              "| 2 |  44.5 | 39.3 | 45.1 | 10.4 |\n",
              "| 3 |  17.2 | 45.9 | 69.3 |  9.3 |\n",
              "| 4 | 151.5 | 41.3 | 58.5 | 18.5 |\n",
              "| 5 | 180.8 | 10.8 | 58.4 | 12.9 |\n",
              "| 6 |   8.7 | 48.9 | 75.0 |  7.2 |\n",
              "\n"
            ],
            "text/plain": [
              "  ...1 TV    radio newspaper sales\n",
              "1 1    230.1 37.8  69.2      22.1 \n",
              "2 2     44.5 39.3  45.1      10.4 \n",
              "3 3     17.2 45.9  69.3       9.3 \n",
              "4 4    151.5 41.3  58.5      18.5 \n",
              "5 5    180.8 10.8  58.4      12.9 \n",
              "6 6      8.7 48.9  75.0       7.2 "
            ]
          },
          "metadata": {},
          "output_type": "display_data"
        }
      ],
      "source": [
        "df <- read_csv('https://www.statlearning.com/s/Advertising.csv')\n",
        "print(dim(df))\n",
        "head(df)"
      ]
    },
    {
      "cell_type": "code",
      "execution_count": 123,
      "metadata": {
        "vscode": {
          "languageId": "r"
        }
      },
      "outputs": [],
      "source": [
        "CV_ads <- function(data, k = 10){\n",
        "  cutoff <- floor(nrow(data)/k)\n",
        "  mse_na <- c()\n",
        "  mse_tvrad <- c()\n",
        "  mse_tvnews <- c()\n",
        "  mse_radnews <- c()\n",
        "  for (i in 1:k){\n",
        "    start <- 1 + ((i-1) * cutoff)\n",
        "    stop <- start + cutoff - 1\n",
        "    train <- data[!1:nrow(data) %in% start:stop,]\n",
        "    test <- data[start:stop,]\n",
        "    model_na <- lm(sales ~ TV + radio + newspaper, data = train)\n",
        "    model_tvrad <- lm(sales ~ TV + radio + newspaper + TV*radio, data = train)\n",
        "    model_tvnews <- lm(sales ~ TV + radio + newspaper + TV*newspaper, data = train)\n",
        "    model_radnews <- lm(sales ~ TV + radio + newspaper + radio*newspaper, data = train)\n",
        "    predict_na <- predict(model_na, test)\n",
        "    predict_tvrad <- predict(model_tvrad, test)\n",
        "    predict_tvnews <- predict(model_tvnews, test)\n",
        "    predict_radnews <- predict(model_radnews, test)\n",
        "    mse_na<- c(mse_na, RMSE(predict_na, test$sales)**2)\n",
        "    mse_tvrad<- c(mse_tvrad, RMSE(predict_tvrad, test$sales)**2)\n",
        "    mse_tvnews<- c(mse_tvnews, RMSE(predict_tvnews, test$sales)**2)\n",
        "    mse_radnews<- c(mse_radnews, RMSE(predict_radnews, test$sales)**2)\n",
        "  }\n",
        "  return(c(\"Model No Interactions\" = round(mean(mse_na),2), \"Model with TV*Radio Interaction\" = round(mean(mse_tvrad),2), \"Model with TV*Newspaper Interaction\" = round(mean(mse_tvnews),2),\n",
        "  \"Model with Radio*Newspaper Interaction\" = round(mean(mse_radnews),2)))\n",
        "}"
      ]
    },
    {
      "cell_type": "code",
      "execution_count": 124,
      "metadata": {
        "vscode": {
          "languageId": "r"
        }
      },
      "outputs": [
        {
          "data": {
            "text/html": [
              "<style>\n",
              ".dl-inline {width: auto; margin:0; padding: 0}\n",
              ".dl-inline>dt, .dl-inline>dd {float: none; width: auto; display: inline-block}\n",
              ".dl-inline>dt::after {content: \":\\0020\"; padding-right: .5ex}\n",
              ".dl-inline>dt:not(:first-of-type) {padding-left: .5ex}\n",
              "</style><dl class=dl-inline><dt>Model No Interactions</dt><dd>3.06</dd><dt>Model with TV*Radio Interaction</dt><dd>0.96</dd><dt>Model with TV*Newspaper Interaction</dt><dd>3</dd><dt>Model with Radio*Newspaper Interaction</dt><dd>3.12</dd></dl>\n"
            ],
            "text/latex": [
              "\\begin{description*}\n",
              "\\item[Model No Interactions] 3.06\n",
              "\\item[Model with TV*Radio Interaction] 0.96\n",
              "\\item[Model with TV*Newspaper Interaction] 3\n",
              "\\item[Model with Radio*Newspaper Interaction] 3.12\n",
              "\\end{description*}\n"
            ],
            "text/markdown": [
              "Model No Interactions\n",
              ":   3.06Model with TV*Radio Interaction\n",
              ":   0.96Model with TV*Newspaper Interaction\n",
              ":   3Model with Radio*Newspaper Interaction\n",
              ":   3.12\n",
              "\n"
            ],
            "text/plain": [
              "                 Model No Interactions        Model with TV*Radio Interaction \n",
              "                                  3.06                                   0.96 \n",
              "   Model with TV*Newspaper Interaction Model with Radio*Newspaper Interaction \n",
              "                                  3.00                                   3.12 "
            ]
          },
          "metadata": {},
          "output_type": "display_data"
        }
      ],
      "source": [
        "CV_ads(df)"
      ]
    },
    {
      "attachments": {},
      "cell_type": "markdown",
      "metadata": {},
      "source": [
        "Based on these results, it is clear that the best model of the 4 is the one with the 3 predictors plus an interaction term between TV*Radio which is the only one with a 10-fold CV MSE below 1."
      ]
    },
    {
      "cell_type": "markdown",
      "metadata": {},
      "source": [
        "**HW-2.4.b** \n",
        "Create a single plot showing the return on investment of each advertising method where the y-axis is `Sales` and the x-axis is advertising dollars. There should be three lines, one for each method. The slope is the coefficient from you regression. What is the best advertising method to invest in based on return on investment?"
      ]
    },
    {
      "cell_type": "code",
      "execution_count": 125,
      "metadata": {
        "vscode": {
          "languageId": "r"
        }
      },
      "outputs": [
        {
          "data": {
            "image/png": "[encoded data removed]",
            "text/plain": [
              "plot without title"
            ]
          },
          "metadata": {
            "image/png": {
              "height": 420,
              "width": 420
            }
          },
          "output_type": "display_data"
        }
      ],
      "source": [
        "## Split data into test and train \n",
        "set.seed(100)\n",
        "indices <- sample(1:nrow(df),floor(.8*nrow(df)))\n",
        "train <- df[indices,]\n",
        "test <- df[!1:nrow(df) %in% indices,]\n",
        "\n",
        "## Run a linear model with no interactions to get raw returns\n",
        "model <- lm(sales ~ TV + radio + newspaper, data = train)\n",
        "coeffs <- coef(model)\n",
        "\n",
        "## Filling in the data\n",
        "Dollars <- seq(min(df), max(df), length.out = 200)\n",
        "TV <- Dollars * coeffs[[2]] + coeffs[[1]]\n",
        "Radio <- Dollars * coeffs[[3]] + coeffs[[1]]\n",
        "Newspaper <- Dollars * coeffs[[4]] + coeffs[[1]]\n",
        "return <- data.frame(Dollars,TV, Radio, Newspaper)\n",
        "\n",
        "## Making graph\n",
        "return %>% \n",
        "pivot_longer(cols = c(TV, Radio, Newspaper), names_to= \"Spending Avenue\")%>%\n",
        "ggplot(., aes(Dollars, value, color = `Spending Avenue`))+\n",
        "geom_line()+\n",
        "ggtitle('Return on Advertising Spend')+\n",
        "xlab('Dollars Invested')+\n",
        "ylab('Sales')+\n",
        "theme_minimal()\n",
        "\n"
      ]
    },
    {
      "cell_type": "markdown",
      "metadata": {},
      "source": []
    },
    {
      "attachments": {},
      "cell_type": "markdown",
      "metadata": {},
      "source": [
        "The best method to invest in based on ROI is Radio, then TV, and lastly Newspaper. Based on the data however, none of these methods are ROI positive, consuming more money on the marketing side then the returns they generate through sales. Newspaper is clearly the worst form of marketing and should not be utilized. Radio and TV both work with radio being superior, and given the interaction between them, these avenues seem to be the best to pursue with emphasis on radio."
      ]
    },
    {
      "cell_type": "markdown",
      "metadata": {},
      "source": [
        "## HW-2.5: ISLR-6.8 #8(a-d)\n",
        "\n",
        "#### Part-A"
      ]
    },
    {
      "cell_type": "code",
      "execution_count": 126,
      "metadata": {
        "vscode": {
          "languageId": "r"
        }
      },
      "outputs": [],
      "source": [
        "## Using rnorm() to generate X of length 100 and a noise vector E \n",
        "set.seed(10)\n",
        "X <- rnorm(100)\n",
        "E <- rnorm(100)"
      ]
    },
    {
      "cell_type": "markdown",
      "metadata": {},
      "source": [
        "#### Part-B"
      ]
    },
    {
      "cell_type": "code",
      "execution_count": 127,
      "metadata": {
        "vscode": {
          "languageId": "r"
        }
      },
      "outputs": [],
      "source": [
        "## Generating Y according to a model of the form Y = B0 + B1X + B2X^2 + B3X^3 + E\n",
        "# Establishing coeffs of my choice\n",
        "B0 <- 1\n",
        "B1 <- 2\n",
        "B2 <- 3\n",
        "B3 <- 4\n",
        "Y <- B0 + B1*X + B2*X**2 + B3*X**3 + E"
      ]
    },
    {
      "cell_type": "markdown",
      "metadata": {},
      "source": [
        "#### Part-C"
      ]
    },
    {
      "cell_type": "code",
      "execution_count": 128,
      "metadata": {
        "vscode": {
          "languageId": "r"
        }
      },
      "outputs": [],
      "source": [
        "## Use regsubsets to do subset selection containing predictors X..X^10\n",
        "\n",
        "## Create dataframe \n",
        "xy <- data.frame(X, Y)\n",
        "\n",
        "## Fit model\n",
        "reg <- regsubsets(Y ~ poly(X,10, raw = T), data = xy, nvmax = 10, method = 'exhaustive')\n",
        "reg.sum <- summary(reg)"
      ]
    },
    {
      "cell_type": "code",
      "execution_count": 129,
      "metadata": {
        "vscode": {
          "languageId": "r"
        }
      },
      "outputs": [
        {
          "name": "stdout",
          "output_type": "stream",
          "text": [
            "Best model according to Cp: 3 \n",
            " Best model according to BIC: 3 \n",
            " Best model according to adjusted R2: 3 \n"
          ]
        }
      ],
      "source": [
        "## Getting model critieria\n",
        "# Find the best model according to Cp\n",
        "best_model_cp <- which.min(reg.sum$cp)\n",
        "\n",
        "# Find the best model according to BIC\n",
        "best_model_bic <- which.min(reg.sum$bic)\n",
        "\n",
        "# Find the best model according to adjusted R2\n",
        "best_model_adjr2 <- which.max(reg.sum$adjr2)\n",
        "\n",
        "# Print the best models according to each criterion\n",
        "cat(\"Best model according to Cp:\", best_model_cp, \"\\n\",\n",
        "    \"Best model according to BIC:\", best_model_bic, \"\\n\",\n",
        "    \"Best model according to adjusted R2:\", best_model_adjr2, \"\\n\")"
      ]
    },
    {
      "cell_type": "code",
      "execution_count": 130,
      "metadata": {
        "vscode": {
          "languageId": "r"
        }
      },
      "outputs": [
        {
          "data": {
            "image/png": "[encoded data removed]",
            "text/plain": [
              "Plot with title \"Best AdjR2 Model - Exhaustive Search\""
            ]
          },
          "metadata": {
            "image/png": {
              "height": 420,
              "width": 420
            }
          },
          "output_type": "display_data"
        }
      ],
      "source": [
        "## Plotting the criteria\n",
        "res <- data.frame(model = 1:length(reg.sum$bic), bic = reg.sum$bic, cp = reg.sum$cp, adjr2 = reg.sum$adjr2)\n",
        "par(mfrow = c(2,2))\n",
        "plot(res$model, res$bic, main = \"Best BIC Model - Exhaustive Search\", type = 'l')\n",
        "points(best_model_bic, min(res$bic), col = 'red',cex=2,pch=20)\n",
        "plot(res$model, res$cp, main = \"Best C_p Model - Exhaustive Search\", type = 'l')\n",
        "points(best_model_cp, min(res$cp), col = 'red',cex=2,pch=20)\n",
        "plot(res$model, res$adjr2, main = \"Best AdjR2 Model - Exhaustive Search\", type = 'l')\n",
        "points(best_model_adjr2, max(res$adjr2), col = 'red',cex=2,pch=20)\n"
      ]
    },
    {
      "cell_type": "code",
      "execution_count": 131,
      "metadata": {
        "vscode": {
          "languageId": "r"
        }
      },
      "outputs": [
        {
          "name": "stdout",
          "output_type": "stream",
          "text": [
            "          (Intercept) poly(X, 10, raw = T)1 poly(X, 10, raw = T)2 \n",
            "            0.9289736             1.8842119             2.9636219 \n",
            "poly(X, 10, raw = T)3 \n",
            "            4.0211132 \n"
          ]
        }
      ],
      "source": [
        "## Coefficients for the best models\n",
        "print(coef(reg, id = 3))"
      ]
    },
    {
      "attachments": {},
      "cell_type": "markdown",
      "metadata": {},
      "source": [
        "Model 3 was chosen as the best models by BIC, C_p and AdjR2. The model maps decently well to the coefficients I had assigned (1,2,3,4) and this returned the exact same variables using only $X^1$ - $X^3$."
      ]
    },
    {
      "cell_type": "markdown",
      "metadata": {},
      "source": [
        "#### Part-D: \n",
        "\n",
        "#### Forward selection"
      ]
    },
    {
      "cell_type": "code",
      "execution_count": 132,
      "metadata": {
        "vscode": {
          "languageId": "r"
        }
      },
      "outputs": [
        {
          "name": "stdout",
          "output_type": "stream",
          "text": [
            "Best model according to Cp: 3 \n",
            " Best model according to BIC: 3 \n",
            " Best model according to adjusted R2: 3 \n"
          ]
        }
      ],
      "source": [
        "## Fit model\n",
        "reg_f <- regsubsets(Y ~ poly(X,10, raw = T), data = xy, nvmax = 10, method = 'forward')\n",
        "reg_f.sum <- summary(reg_f)\n",
        "\n",
        "## Getting model critieria\n",
        "# Find the best model according to Cp\n",
        "best_model_f_cp <- which.min(reg_f.sum$cp)\n",
        "\n",
        "# Find the best model according to BIC\n",
        "best_model_f_bic <- which.min(reg_f.sum$bic)\n",
        "\n",
        "# Find the best model according to adjusted R2\n",
        "best_model_f_adjr2 <- which.max(reg_f.sum$adjr2)\n",
        "\n",
        "# Print the best models according to each criterion\n",
        "cat(\"Best model according to Cp:\", best_model_f_cp, \"\\n\",\n",
        "    \"Best model according to BIC:\", best_model_f_bic, \"\\n\",\n",
        "    \"Best model according to adjusted R2:\", best_model_f_adjr2, \"\\n\")"
      ]
    },
    {
      "cell_type": "code",
      "execution_count": 133,
      "metadata": {
        "vscode": {
          "languageId": "r"
        }
      },
      "outputs": [
        {
          "data": {
            "image/png": "[encoded data removed]",
            "text/plain": [
              "Plot with title \"Best AdjR2 Model - Forward Selection\""
            ]
          },
          "metadata": {
            "image/png": {
              "height": 420,
              "width": 420
            }
          },
          "output_type": "display_data"
        }
      ],
      "source": [
        "## Plotting the criteria\n",
        "res_f <- data.frame(model = 1:length(reg_f.sum$bic), bic = reg_f.sum$bic, cp = reg_f.sum$cp, adjr2 = reg_f.sum$adjr2)\n",
        "par(mfrow = c(2,2))\n",
        "plot(res_f$model, res_f$bic, main = \"Best BIC Model - Forward Selection\", type = 'l')\n",
        "points(best_model_f_bic, min(res_f$bic), col = 'red',cex=2,pch=20)\n",
        "plot(res_f$model, res_f$cp, main = \"Best C_p Model - Forward Selection\", type = 'l')\n",
        "points(best_model_f_cp, min(res_f$cp), col = 'red',cex=2,pch=20)\n",
        "plot(res_f$model, res_f$adjr2, main = \"Best AdjR2 Model - Forward Selection\", type = 'l')\n",
        "points(best_model_f_adjr2, max(res_f$adjr2), col = 'red',cex=2,pch=20)"
      ]
    },
    {
      "cell_type": "markdown",
      "metadata": {},
      "source": [
        "#### Backward selection"
      ]
    },
    {
      "cell_type": "code",
      "execution_count": 134,
      "metadata": {
        "vscode": {
          "languageId": "r"
        }
      },
      "outputs": [
        {
          "name": "stdout",
          "output_type": "stream",
          "text": [
            "Best model according to Cp: 5 \n",
            " Best model according to BIC: 5 \n",
            " Best model according to adjusted R2: 5 \n"
          ]
        }
      ],
      "source": [
        "## Fit model\n",
        "reg_b <- regsubsets(Y ~ poly(X,10, raw = T), data = xy, nvmax = 10, method = 'backward')\n",
        "reg_b.sum <- summary(reg_b)\n",
        "\n",
        "## Getting model critieria\n",
        "# Find the best model according to Cp\n",
        "best_model_b_cp <- which.min(reg_b.sum$cp)\n",
        "\n",
        "# Find the best model according to BIC\n",
        "best_model_b_bic <- which.min(reg_b.sum$bic)\n",
        "\n",
        "# Find the best model according to adjusted R2\n",
        "best_model_b_adjr2 <- which.max(reg_b.sum$adjr2)\n",
        "\n",
        "# Print the best models according to each criterion\n",
        "cat(\"Best model according to Cp:\", best_model_b_cp, \"\\n\",\n",
        "    \"Best model according to BIC:\", best_model_b_bic, \"\\n\",\n",
        "    \"Best model according to adjusted R2:\", best_model_b_adjr2, \"\\n\")"
      ]
    },
    {
      "cell_type": "code",
      "execution_count": 135,
      "metadata": {
        "vscode": {
          "languageId": "r"
        }
      },
      "outputs": [
        {
          "data": {
            "image/png": "[encoded data removed]",
            "text/plain": [
              "Plot with title \"Best AdjR2 Model - Backward Selection\""
            ]
          },
          "metadata": {
            "image/png": {
              "height": 420,
              "width": 420
            }
          },
          "output_type": "display_data"
        }
      ],
      "source": [
        "## Plotting the criteria\n",
        "res_b <- data.frame(model = 1:length(reg_b.sum$bic), bic = reg_b.sum$bic, cp = reg_b.sum$cp, adjr2 = reg_b.sum$adjr2)\n",
        "par(mfrow = c(2,2))\n",
        "plot(res_b$model, res_b$bic, main = \"Best BIC Model - Backward Selection\", type = 'l')\n",
        "points(best_model_b_bic, min(res_b$bic), col = 'red',cex=2,pch=20)\n",
        "plot(res_b$model, res_b$cp, main = \"Best C_p Model - Backward Selection\", type = 'l')\n",
        "points(best_model_b_cp, min(res_b$cp), col = 'red',cex=2,pch=20)\n",
        "plot(res_b$model, res_b$adjr2, main = \"Best AdjR2 Model - Backward Selection\", type = 'l')\n",
        "points(best_model_b_adjr2, max(res$adjr2), col = 'red',cex=2,pch=20)"
      ]
    },
    {
      "attachments": {},
      "cell_type": "markdown",
      "metadata": {},
      "source": [
        "The answers from backward selection differ from both forward and exhaustive search, indicating that model 5 should be examined according to all the metrics. Forward selection concurred with exhaustive search in saying that model 3 was the best choice. So now models 3 and 5 would be candidates to try in a CV paradigm."
      ]
    },
    {
      "cell_type": "code",
      "execution_count": 136,
      "metadata": {
        "vscode": {
          "languageId": "r"
        }
      },
      "outputs": [
        {
          "name": "stdout",
          "output_type": "stream",
          "text": [
            "          (Intercept) poly(X, 10, raw = T)1 poly(X, 10, raw = T)2 \n",
            "            0.9818936             3.1379841             2.9222014 \n",
            "poly(X, 10, raw = T)5 poly(X, 10, raw = T)7 poly(X, 10, raw = T)9 \n",
            "            3.4159195            -1.0536412             0.1054919 \n"
          ]
        }
      ],
      "source": [
        "print(coef(reg_b, id = 5))"
      ]
    },
    {
      "cell_type": "code",
      "execution_count": 137,
      "metadata": {
        "vscode": {
          "languageId": "r"
        }
      },
      "outputs": [
        {
          "data": {
            "text/html": [
              "<style>\n",
              ".dl-inline {width: auto; margin:0; padding: 0}\n",
              ".dl-inline>dt, .dl-inline>dd {float: none; width: auto; display: inline-block}\n",
              ".dl-inline>dt::after {content: \":\\0020\"; padding-right: .5ex}\n",
              ".dl-inline>dt:not(:first-of-type) {padding-left: .5ex}\n",
              "</style><dl class=dl-inline><dt>Model 3</dt><dd>0.99</dd><dt>Model 5</dt><dd>1.01</dd></dl>\n"
            ],
            "text/latex": [
              "\\begin{description*}\n",
              "\\item[Model 3] 0.99\n",
              "\\item[Model 5] 1.01\n",
              "\\end{description*}\n"
            ],
            "text/markdown": [
              "Model 3\n",
              ":   0.99Model 5\n",
              ":   1.01\n",
              "\n"
            ],
            "text/plain": [
              "Model 3 Model 5 \n",
              "   0.99    1.01 "
            ]
          },
          "metadata": {},
          "output_type": "display_data"
        }
      ],
      "source": [
        "## Running CV to determine best model\n",
        "CV_ <- function(data, k = 5){\n",
        "  cutoff <- floor(nrow(data)/k)\n",
        "  mse_3 <- c()\n",
        "  mse_5 <- c()\n",
        "  pred_3 <- c()\n",
        "  actual <- c()\n",
        "  for (i in 1:k){\n",
        "    start <- 1 + ((i-1) * cutoff)\n",
        "    stop <- start + cutoff - 1\n",
        "    train <- data[!1:nrow(data) %in% start:stop,]\n",
        "    test <- data[start:stop,]\n",
        "    model_3 <- lm(Y ~ poly(X,10, raw = T)[,c(1,2,3)], data = train)\n",
        "    model_5 <- lm(Y ~ poly(X,10, raw = T)[,c(1,2,5,7,9)], data = train)\n",
        "    predict_3 <- predict(model_3, test)\n",
        "    predict_5 <- predict(model_5, test)\n",
        "    mse_3<- c(mse_3, RMSE(predict_3, test$Y))\n",
        "    mse_5<- c(mse_5, RMSE(predict_5, test$Y))\n",
        "    pred_3 <- c(pred_3, predict_3)\n",
        "    actual <- c(actual, test$Y)\n",
        "  }\n",
        "  return(c(\"Model 3\" = round(mean(mse_3),2), \"Model 5\" = round(mean(mse_5),2), pred_3, actual))\n",
        "}\n",
        "r <- CV_(xy)\n",
        "r[1:2]"
      ]
    },
    {
      "attachments": {},
      "cell_type": "markdown",
      "metadata": {},
      "source": [
        "Based on these results, model 3 does perform the best, which is what was suggested by both exhaustive search and forward selection. As mentioned above its parameters are also in strong agreement with the intial parameters I set which would be unknown in a normal process, but here it is a good sanity check. Below is a plot mapping the predictions to the actual values, which shows strong postive correlation."
      ]
    },
    {
      "cell_type": "code",
      "execution_count": 138,
      "metadata": {
        "vscode": {
          "languageId": "r"
        }
      },
      "outputs": [
        {
          "data": {
            "image/png": "[encoded data removed]",
            "text/plain": [
              "Plot with title \"Predicted vs. Actual\""
            ]
          },
          "metadata": {
            "image/png": {
              "height": 420,
              "width": 420
            }
          },
          "output_type": "display_data"
        }
      ],
      "source": [
        "pred <- r[3:102]\n",
        "actual <- r[103:length(r)]\n",
        "plot(pred, actual, xlab = \"Predicted\", ylab = \"Actual\", main = \"Predicted vs. Actual\")\n",
        "abline(lm(pred~actual), col = \"red\")"
      ]
    }
  ],
  "metadata": {
    "kernelspec": {
      "display_name": "R",
      "language": "R",
      "name": "ir"
    },
    "language_info": {
      "codemirror_mode": "r",
      "file_extension": ".r",
      "mimetype": "text/x-r-source",
      "name": "R",
      "pygments_lexer": "r",
      "version": "4.2.1"
    }
  },
  "nbformat": 4,
  "nbformat_minor": 4
}
