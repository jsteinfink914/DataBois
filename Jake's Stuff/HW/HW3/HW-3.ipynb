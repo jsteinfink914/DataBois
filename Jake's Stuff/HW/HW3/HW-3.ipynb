{
  "cells": [
    {
      "cell_type": "raw",
      "metadata": {},
      "source": [
        "---\n",
        "format:\n",
        "  html:\n",
        "    embed-resources: true\n",
        "---"
      ]
    },
    {
      "cell_type": "markdown",
      "metadata": {},
      "source": [
        "# ANLY-512: HW-3\n",
        "Author: Dr. Purna Gamage\n",
        "\n",
        "**Instructions**\n",
        "\n",
        "* Read and complete all exercises below in the provided `.rmd` notebook \n",
        "* [click here to download the notebook for the assignment](HW-3.rmd.zip)\n",
        "\n",
        "**Submission:**\n",
        "\n",
        "* You need to upload ONE document to Canvas when you are done. \n",
        "* A PDF (or HTML) of the completed form of this notebook\n",
        "* The final uploaded version should NOT have any code-errors present. \n",
        "* All outputs must be visible in the uploaded version, including code-cell outputs, images, graphs, etc\n",
        "\n",
        "## Import"
      ]
    },
    {
      "cell_type": "code",
      "execution_count": 87,
      "metadata": {
        "vscode": {
          "languageId": "r"
        }
      },
      "outputs": [],
      "source": [
        "#knitr::opts_chunk$set(include = FALSE) # for making prompts\n",
        "knitr::opts_chunk$set(echo = TRUE) # for making solutions\n",
        "knitr::opts_chunk$set(fig.width = 3)\n",
        "library(knitr)\n",
        "library(tidyverse)\n",
        "library(modeldata)\n",
        "library(leaps)\n",
        "library(caret)\n",
        "library(corrplot)\n",
        "library(MASS)\n",
        "library(ISLR)\n",
        "library(glmnet)\n",
        "library(gam)\n",
        "\n"
      ]
    },
    {
      "cell_type": "markdown",
      "metadata": {},
      "source": [
        "## HW-3.1: Stock returns\n",
        "\n",
        "Use polynomials and ridge regression to predict stock returns\n",
        "\n",
        "This problem uses the built in `EuStockMarkets` dataset. The dataset contains time series of closing prices of major European stock indices from 1991 to 1998. We use only the `FTSE` column in this problem. The dataset is a time series object, but you will need to extract the `FTSE` column and make it into a data frame. \n",
        "\n",
        "### HW-3.1a: \n",
        "\n",
        "Fit polynomial models of degrees 4, 8, 12 to the FTSE data and plot all three fitted curves together with a scatterplot of the data. Comment on the plots. Which features in the data are resolved by the polynomial models? Which features are not resolved? Do the polynomial curves show any artifacts such as oscillations?"
      ]
    },
    {
      "cell_type": "code",
      "execution_count": 17,
      "metadata": {
        "vscode": {
          "languageId": "r"
        }
      },
      "outputs": [
        {
          "name": "stdout",
          "output_type": "stream",
          "text": [
            "         DAX    SMI    CAC   FTSE\n",
            "[1,] 1628.75 1678.1 1772.8 2443.6\n",
            "[2,] 1613.63 1688.5 1750.5 2460.2\n",
            "[3,] 1606.51 1678.6 1718.0 2448.2\n",
            "[4,] 1621.04 1684.1 1708.1 2470.4\n",
            "[5,] 1618.16 1686.6 1723.1 2484.7\n",
            "[6,] 1610.61 1671.6 1714.3 2466.8\n"
          ]
        }
      ],
      "source": [
        "# GET DATA\n",
        "data(\"EuStockMarkets\")\n",
        "print(head(EuStockMarkets))\n",
        "ftse <- EuStockMarkets[,4]"
      ]
    },
    {
      "cell_type": "code",
      "execution_count": 18,
      "metadata": {
        "vscode": {
          "languageId": "r"
        }
      },
      "outputs": [
        {
          "name": "stdout",
          "output_type": "stream",
          "text": [
            "$tsp\n",
            "[1] 1991.496 1998.646  260.000\n",
            "\n",
            "$class\n",
            "[1] \"ts\"\n",
            "\n"
          ]
        }
      ],
      "source": [
        "print(attributes(ftse))"
      ]
    },
    {
      "cell_type": "code",
      "execution_count": 19,
      "metadata": {
        "vscode": {
          "languageId": "r"
        }
      },
      "outputs": [
        {
          "data": {
            "image/png": "[encoded data removed]",
            "text/plain": [
              "Plot with title \"Fitted vs Actual Values of FTSE Price\""
            ]
          },
          "metadata": {
            "image/png": {
              "height": 420,
              "width": 420
            }
          },
          "output_type": "display_data"
        }
      ],
      "source": [
        "## Converting ftse to a dataframe\n",
        "FTSE <- data.frame(date = as.numeric(time(EuStockMarkets)), ftse = as.numeric(ftse))\n",
        "## Fitting polynomial models\n",
        "poly_4 <- lm(ftse ~ poly(date, 4), data = FTSE)\n",
        "poly_8 <- lm(ftse ~ poly(date, 8), data = FTSE)\n",
        "poly_12 <- lm(ftse ~ poly(date, 12), data = FTSE)\n",
        "\n",
        "## Plotting the fitted curves\n",
        "plot(FTSE, col = 'black', cex = .3, main = \"Fitted vs Actual Values of FTSE Price\", ylab = \"FTSE Price\")\n",
        "lines(ts(fitted(poly_4), start = 1991.496, frequency = 260), lwd = 2, col = 'red')\n",
        "lines(ts(fitted(poly_8), start = 1991.496, frequency = 260), lwd = 2,col = 'green')\n",
        "lines(ts(fitted(poly_12), start = 1991.496, frequency = 260),lwd = 2, col = 'blue')\n",
        "legend(1991.496,6200,legend=c(\"Actual Data\",\"4th degree\",\"8th degree\", '12th degreee'), col=c(\"black\",\"red\",\"green\", 'blue'),\n",
        "                    ncol=1, lty =1)"
      ]
    },
    {
      "attachments": {},
      "cell_type": "markdown",
      "metadata": {},
      "source": [
        "From the plot, we can see that all three polynomial curves capture the overall trend of the FTSE data, with the degree 12 polynomial curve showing the most variation. The curves for the 4th and 8th degree polynomial do not do as well capturing the variations in the data, mostly just tracking the overall trend. However, the polynomial curves do not capture the short-term fluctuations or noise in the data. We can also observe that the degree 12 polynomial curve exhibits some oscillations, which are artifacts of overfitting."
      ]
    },
    {
      "attachments": {},
      "cell_type": "markdown",
      "metadata": {},
      "source": [
        "### HW-3.1.b: \n",
        "Use ridge regression to regularize the polynomial model of degree 12. Use $\\lambda_{1}SE$. Plot the resulting polynomial model onto the the data and comment on it."
      ]
    },
    {
      "cell_type": "code",
      "execution_count": 20,
      "metadata": {
        "vscode": {
          "languageId": "r"
        }
      },
      "outputs": [
        {
          "data": {
            "image/png": "[encoded data removed]",
            "text/plain": [
              "Plot with title \"Ridge Regression Polynomial Curve\""
            ]
          },
          "metadata": {
            "image/png": {
              "height": 420,
              "width": 420
            }
          },
          "output_type": "display_data"
        }
      ],
      "source": [
        "x <- model.matrix(~ poly(date, 12), data = FTSE)\n",
        "x <- x[,2:ncol(x)]\n",
        "# fit ridge regression model with cv to choose lambda\n",
        "fit <- cv.glmnet(x, FTSE$ftse, alpha = 0, lambda.minratio = .00001, nfolds = 10)\n",
        "best_lambda <- fit$lambda.1se\n",
        "opt_fit <- glmnet(x, FTSE$ftse, alpha = 0, lambda = best_lambda)\n",
        "\n",
        "# create sequence of dates for prediction\n",
        "poly_x <- poly(FTSE$date, 12)\n",
        "pred_x <- predict(opt_fit, newx = poly_x)\n",
        "\n",
        "# plot data and predicted curve\n",
        "plot(FTSE$date, FTSE$ftse, cex = .25, xlab = \"Date\", ylab = \"FTSE Price\", main = \"Ridge Regression Polynomial Curve\")\n",
        "lines(FTSE$date, pred_x, lwd = 2, col = \"red\")\n",
        "legend(1991.496,6200,legend=c(\"Actual Data\",'Ridge Regression'), col=c(\"black\",\"red\"),\n",
        "                    ncol=1, lty =1)"
      ]
    },
    {
      "attachments": {},
      "cell_type": "markdown",
      "metadata": {},
      "source": [
        "From the plot, we can see that the predicted polynomial curve from ridge regression captures the overall trend of the FTSE data and is less prone to oscillations compared to the unregularized degree 12 polynomial curve. The regularization penalty has helped to shrink the coefficients of the higher-order terms and reduce the overfitting of the model as we can see below. However, the predicted curve still does not capture the short-term fluctuations or noise in the data."
      ]
    },
    {
      "cell_type": "markdown",
      "metadata": {},
      "source": [
        "## HW-3.2: Advertising budgets\n",
        "\n",
        "Improve advertising budgets using GAMs\n",
        "\n",
        "Use the Advertising dataset, which can either be found [here]('https://georgetown.instructure.com/files/6146482/download?download_frd=1'). Split the data into a training and test set (70% / 30%)."
      ]
    },
    {
      "cell_type": "code",
      "execution_count": 90,
      "metadata": {
        "vscode": {
          "languageId": "r"
        }
      },
      "outputs": [
        {
          "name": "stderr",
          "output_type": "stream",
          "text": [
            "\u001b[1m\u001b[22mNew names:\n",
            "\u001b[36m•\u001b[39m `` -> `...1`\n",
            "\u001b[1mRows: \u001b[22m\u001b[34m200\u001b[39m \u001b[1mColumns: \u001b[22m\u001b[34m5\u001b[39m\n",
            "\u001b[36m──\u001b[39m \u001b[1mColumn specification\u001b[22m \u001b[36m────────────────────────────────────────────────────────\u001b[39m\n",
            "\u001b[1mDelimiter:\u001b[22m \",\"\n",
            "\u001b[32mdbl\u001b[39m (5): ...1, TV, radio, newspaper, sales\n",
            "\n",
            "\u001b[36mℹ\u001b[39m Use `spec()` to retrieve the full column specification for this data.\n",
            "\u001b[36mℹ\u001b[39m Specify the column types or set `show_col_types = FALSE` to quiet this message.\n"
          ]
        },
        {
          "data": {
            "text/html": [
              "<table class=\"dataframe\">\n",
              "<caption>A tibble: 6 × 4</caption>\n",
              "<thead>\n",
              "\t<tr><th scope=col>TV</th><th scope=col>radio</th><th scope=col>newspaper</th><th scope=col>sales</th></tr>\n",
              "\t<tr><th scope=col>&lt;dbl&gt;</th><th scope=col>&lt;dbl&gt;</th><th scope=col>&lt;dbl&gt;</th><th scope=col>&lt;dbl&gt;</th></tr>\n",
              "</thead>\n",
              "<tbody>\n",
              "\t<tr><td>230.1</td><td>37.8</td><td>69.2</td><td>22.1</td></tr>\n",
              "\t<tr><td> 44.5</td><td>39.3</td><td>45.1</td><td>10.4</td></tr>\n",
              "\t<tr><td> 17.2</td><td>45.9</td><td>69.3</td><td> 9.3</td></tr>\n",
              "\t<tr><td>151.5</td><td>41.3</td><td>58.5</td><td>18.5</td></tr>\n",
              "\t<tr><td>180.8</td><td>10.8</td><td>58.4</td><td>12.9</td></tr>\n",
              "\t<tr><td>  8.7</td><td>48.9</td><td>75.0</td><td> 7.2</td></tr>\n",
              "</tbody>\n",
              "</table>\n"
            ],
            "text/latex": [
              "A tibble: 6 × 4\n",
              "\\begin{tabular}{llll}\n",
              " TV & radio & newspaper & sales\\\\\n",
              " <dbl> & <dbl> & <dbl> & <dbl>\\\\\n",
              "\\hline\n",
              "\t 230.1 & 37.8 & 69.2 & 22.1\\\\\n",
              "\t  44.5 & 39.3 & 45.1 & 10.4\\\\\n",
              "\t  17.2 & 45.9 & 69.3 &  9.3\\\\\n",
              "\t 151.5 & 41.3 & 58.5 & 18.5\\\\\n",
              "\t 180.8 & 10.8 & 58.4 & 12.9\\\\\n",
              "\t   8.7 & 48.9 & 75.0 &  7.2\\\\\n",
              "\\end{tabular}\n"
            ],
            "text/markdown": [
              "\n",
              "A tibble: 6 × 4\n",
              "\n",
              "| TV &lt;dbl&gt; | radio &lt;dbl&gt; | newspaper &lt;dbl&gt; | sales &lt;dbl&gt; |\n",
              "|---|---|---|---|\n",
              "| 230.1 | 37.8 | 69.2 | 22.1 |\n",
              "|  44.5 | 39.3 | 45.1 | 10.4 |\n",
              "|  17.2 | 45.9 | 69.3 |  9.3 |\n",
              "| 151.5 | 41.3 | 58.5 | 18.5 |\n",
              "| 180.8 | 10.8 | 58.4 | 12.9 |\n",
              "|   8.7 | 48.9 | 75.0 |  7.2 |\n",
              "\n"
            ],
            "text/plain": [
              "  TV    radio newspaper sales\n",
              "1 230.1 37.8  69.2      22.1 \n",
              "2  44.5 39.3  45.1      10.4 \n",
              "3  17.2 45.9  69.3       9.3 \n",
              "4 151.5 41.3  58.5      18.5 \n",
              "5 180.8 10.8  58.4      12.9 \n",
              "6   8.7 48.9  75.0       7.2 "
            ]
          },
          "metadata": {},
          "output_type": "display_data"
        }
      ],
      "source": [
        "# GET DATA\n",
        "set.seed(441)\n",
        "ads <- read_csv('https://www.statlearning.com/s/Advertising.csv')\n",
        "ads <- ads[,-1] # remove the X variable (index)\n",
        "train <- sample(200,140)\n",
        "train_data <- ads[train,]\n",
        "test_data <- ads[!1:nrow(ads) %in% train,]\n",
        "head(ads)"
      ]
    },
    {
      "cell_type": "markdown",
      "metadata": {},
      "source": [
        "### HW-3.2a: \n",
        "Fit generalized additive models to predict sales, using smoothing splines of degrees 2, 3, 4, 5, 6 for the three predictors. How do the rms prediction errors compare to the rms prediction error of a multiple regression model on the training set? On the test set?"
      ]
    },
    {
      "cell_type": "code",
      "execution_count": 98,
      "metadata": {
        "vscode": {
          "languageId": "r"
        }
      },
      "outputs": [
        {
          "name": "stderr",
          "output_type": "stream",
          "text": [
            "Warning message in smooth.construct.cr.smooth.spec(object, dk$data, dk$knots):\n",
            "\"basis dimension, k, increased to minimum possible\n",
            "\"\n",
            "Warning message in smooth.construct.cr.smooth.spec(object, dk$data, dk$knots):\n",
            "\"basis dimension, k, increased to minimum possible\n",
            "\"\n",
            "Warning message in smooth.construct.cr.smooth.spec(object, dk$data, dk$knots):\n",
            "\"basis dimension, k, increased to minimum possible\n",
            "\"\n"
          ]
        },
        {
          "data": {
            "text/html": [
              "<table class=\"dataframe\">\n",
              "<caption>A data.frame: 6 × 3</caption>\n",
              "<thead>\n",
              "\t<tr><th scope=col>model</th><th scope=col>Train_Error</th><th scope=col>Test_Error</th></tr>\n",
              "\t<tr><th scope=col>&lt;chr&gt;</th><th scope=col>&lt;dbl&gt;</th><th scope=col>&lt;dbl&gt;</th></tr>\n",
              "</thead>\n",
              "<tbody>\n",
              "\t<tr><td>Degree 2 Spline    </td><td>1.365658</td><td>1.966276</td></tr>\n",
              "\t<tr><td>Degree 3 Spline    </td><td>1.365658</td><td>1.966276</td></tr>\n",
              "\t<tr><td>Degree 4 Spline    </td><td>1.326725</td><td>1.831890</td></tr>\n",
              "\t<tr><td>Degree 5 Spline    </td><td>1.296767</td><td>1.835503</td></tr>\n",
              "\t<tr><td>Degree 6 Spline    </td><td>1.294932</td><td>1.832310</td></tr>\n",
              "\t<tr><td>Multiple Regression</td><td>1.581650</td><td>1.935590</td></tr>\n",
              "</tbody>\n",
              "</table>\n"
            ],
            "text/latex": [
              "A data.frame: 6 × 3\n",
              "\\begin{tabular}{lll}\n",
              " model & Train\\_Error & Test\\_Error\\\\\n",
              " <chr> & <dbl> & <dbl>\\\\\n",
              "\\hline\n",
              "\t Degree 2 Spline     & 1.365658 & 1.966276\\\\\n",
              "\t Degree 3 Spline     & 1.365658 & 1.966276\\\\\n",
              "\t Degree 4 Spline     & 1.326725 & 1.831890\\\\\n",
              "\t Degree 5 Spline     & 1.296767 & 1.835503\\\\\n",
              "\t Degree 6 Spline     & 1.294932 & 1.832310\\\\\n",
              "\t Multiple Regression & 1.581650 & 1.935590\\\\\n",
              "\\end{tabular}\n"
            ],
            "text/markdown": [
              "\n",
              "A data.frame: 6 × 3\n",
              "\n",
              "| model &lt;chr&gt; | Train_Error &lt;dbl&gt; | Test_Error &lt;dbl&gt; |\n",
              "|---|---|---|\n",
              "| Degree 2 Spline     | 1.365658 | 1.966276 |\n",
              "| Degree 3 Spline     | 1.365658 | 1.966276 |\n",
              "| Degree 4 Spline     | 1.326725 | 1.831890 |\n",
              "| Degree 5 Spline     | 1.296767 | 1.835503 |\n",
              "| Degree 6 Spline     | 1.294932 | 1.832310 |\n",
              "| Multiple Regression | 1.581650 | 1.935590 |\n",
              "\n"
            ],
            "text/plain": [
              "  model               Train_Error Test_Error\n",
              "1 Degree 2 Spline     1.365658    1.966276  \n",
              "2 Degree 3 Spline     1.365658    1.966276  \n",
              "3 Degree 4 Spline     1.326725    1.831890  \n",
              "4 Degree 5 Spline     1.296767    1.835503  \n",
              "5 Degree 6 Spline     1.294932    1.832310  \n",
              "6 Multiple Regression 1.581650    1.935590  "
            ]
          },
          "metadata": {},
          "output_type": "display_data"
        }
      ],
      "source": [
        "# Fit GAM with smoothing splines of degrees 2 to 6\n",
        "model_2 <- gam(sales ~ s(TV, k = 2, bs = \"cr\") +\n",
        "               s(radio, k = 2, bs = \"cr\") +\n",
        "               s(newspaper, k = 2, bs = \"cr\"),\n",
        "             data = train_data)\n",
        "\n",
        "model_3 <- gam(sales ~ s(TV, k = 3, bs = \"cr\") +\n",
        "               s(radio, k = 3, bs = \"cr\") +\n",
        "               s(newspaper, k = 3, bs = \"cr\"),\n",
        "             data = train_data)\n",
        "\n",
        "model_4 <- gam(sales ~ s(TV, k = 4, bs = \"cr\") +\n",
        "               s(radio, k = 4, bs = \"cr\") +\n",
        "               s(newspaper, k = 4, bs = \"cr\"),\n",
        "             data = train_data)\n",
        "\n",
        "model_5 <- gam(sales ~ s(TV, k = 5, bs = \"cr\") +\n",
        "               s(radio, k = 5, bs = \"cr\") +\n",
        "               s(newspaper, k = 5, bs = \"cr\"),\n",
        "             data = train_data)\n",
        "\n",
        "model_6 <- gam(sales ~ s(TV, k = 6, bs = \"cr\") +\n",
        "               s(radio, k = 6, bs = \"cr\") +\n",
        "               s(newspaper, k = 6, bs = \"cr\"),\n",
        "             data = train_data)\n",
        "\n",
        "# Make predictions on training set and calculate RMS prediction error\n",
        "train_pred_2 <- predict(model_2, newdata = train_data)\n",
        "train_error_2 <- sqrt(mean((train_pred_2 - train_data$sales)^2))\n",
        "train_pred_3 <- predict(model_3, newdata = train_data)\n",
        "train_error_3 <- sqrt(mean((train_pred_3 - train_data$sales)^2))\n",
        "train_pred_4 <- predict(model_4, newdata = train_data)\n",
        "train_error_4 <- sqrt(mean((train_pred_4 - train_data$sales)^2))\n",
        "train_pred_5 <- predict(model_5, newdata = train_data)\n",
        "train_error_5 <- sqrt(mean((train_pred_5 - train_data$sales)^2))\n",
        "train_pred_6 <- predict(model_6, newdata = train_data)\n",
        "train_error_6 <- sqrt(mean((train_pred_6 - train_data$sales)^2))\n",
        "\n",
        "# Make predictions on test set and calculate RMS prediction error\n",
        "test_pred_2 <- predict(model_2, newdata = test_data)\n",
        "test_error_2 <- sqrt(mean((test_pred_2 - test_data$sales)^2))\n",
        "test_pred_3 <- predict(model_3, newdata = test_data)\n",
        "test_error_3 <- sqrt(mean((test_pred_3 - test_data$sales)^2))\n",
        "test_pred_4 <- predict(model_4, newdata = test_data)\n",
        "test_error_4 <- sqrt(mean((test_pred_4 - test_data$sales)^2))\n",
        "test_pred_5 <- predict(model_5, newdata = test_data)\n",
        "test_error_5 <- sqrt(mean((test_pred_5 - test_data$sales)^2))\n",
        "test_pred_6 <- predict(model_6, newdata = test_data)\n",
        "test_error_6 <- sqrt(mean((test_pred_6 - test_data$sales)^2))\n",
        "\n",
        "# Fit multiple regression model\n",
        "reg_model <- lm(sales ~ TV + radio + newspaper, data = train_data)\n",
        "\n",
        "# Make predictions on training set and calculate RMS prediction error\n",
        "reg_train_pred <- predict(reg_model, newdata = train_data)\n",
        "reg_train_error <- sqrt(mean((reg_train_pred - train_data$sales)^2))\n",
        "\n",
        "# Make predictions on test set and calculate RMS prediction error\n",
        "reg_test_pred <- predict(reg_model, newdata = test_data)\n",
        "reg_test_error <- sqrt(mean((reg_test_pred - test_data$sales)^2))\n",
        "\n",
        "# Print RMS prediction errors\n",
        "res <- data.frame(model = c('Degree 2 Spline','Degree 3 Spline','Degree 4 Spline','Degree 5 Spline','Degree 6 Spline', 'Multiple Regression'),\n",
        "                  Train_Error = c(train_error_2,train_error_3,train_error_4,train_error_5,train_error_6, reg_train_error),\n",
        "                  Test_Error = c(test_error_2,test_error_3,test_error_4,test_error_5,test_error_6,reg_test_error))\n",
        "res\n"
      ]
    },
    {
      "attachments": {},
      "cell_type": "markdown",
      "metadata": {},
      "source": [
        "On the train sets, all the GAM models outperformed the multiple regression by a fair margin. On the test set, the degree 4-6 splines outerpformed the multiple regression, but degree 2 and 3 splines performed worse."
      ]
    },
    {
      "attachments": {},
      "cell_type": "markdown",
      "metadata": {},
      "source": [
        "### HW-3.2.b: \n",
        "Is there evidence of overfitting?\n",
        "\n",
        "There is evidence of overfitting because there is a large difference between training and test error The training error may continue to decrease as the model complexity increases, but the test error being higher (specifically in the 5th and 6th degree splines) can mean that these complex models do not generalize as well to unseen data. Given the complexity of the higher degree models, thi sis of particular concern. \n",
        "\n",
        "We also see that there is a test error plateau after the degree 4 spline. The 5th and 6th degree splines have slightly better train error, but worse test error. Here, I would say that the 5th and 6th degree splines are overfit.\n",
        "\n",
        "### HW-3.2.c: \n",
        "You now have six models (five GAM and one LM). Which model should be used? Explain your answer.\n",
        "\n",
        "The GAM with the 4th degree smoothing splines should be used. This model sees some of the lowest train error and reports the lowest test error. It also marks the point before the test error begins to rise as we move into an overfitting regime. As a result, this 4th degree spline model appears to be optimal.\n",
        "\n",
        "## HW-3.3: Boston housing\n",
        "\n",
        "Use LASSO to predict housing prices in Boston\n",
        "\n",
        "Consider the `Boston` data from the `MASS` package. We want to use LASSO to predict the median home value `medv` using all the other predictors.\n",
        "\n",
        "### HW-3.3.a: \n",
        "Set up the LASSO and plot the trajectories of all coefficients. What are the last five variables to remain in the model?"
      ]
    },
    {
      "cell_type": "code",
      "execution_count": 22,
      "metadata": {
        "vscode": {
          "languageId": "r"
        }
      },
      "outputs": [
        {
          "data": {
            "image/png": "[encoded data removed]",
            "text/plain": [
              "plot without title"
            ]
          },
          "metadata": {
            "image/png": {
              "height": 420,
              "width": 420
            }
          },
          "output_type": "display_data"
        }
      ],
      "source": [
        "data(Boston)\n",
        "set.seed(123)\n",
        "\n",
        "X <- model.matrix(medv ~., data = Boston)[,2:ncol(Boston)]\n",
        "y  <- Boston[, 'medv']\n",
        "\n",
        "# Fit LASSO model\n",
        "lasso_mod <- cv.glmnet(X, y, alpha = 1, nfolds = 10)\n",
        "\n",
        "# Plot coefficient trajectories\n",
        "plot(lasso_mod$glmnet.fit, xvar = \"lambda\", label = TRUE)"
      ]
    },
    {
      "cell_type": "code",
      "execution_count": 23,
      "metadata": {
        "vscode": {
          "languageId": "r"
        }
      },
      "outputs": [
        {
          "data": {
            "text/plain": [
              "14 x 1 sparse Matrix of class \"dgCMatrix\"\n",
              "                      s0\n",
              "(Intercept) 14.591080859\n",
              "crim         .          \n",
              "zn           .          \n",
              "indus        .          \n",
              "chas         0.661960730\n",
              "nox          .          \n",
              "rm           4.023519352\n",
              "age          .          \n",
              "dis          .          \n",
              "rad          .          \n",
              "tax          .          \n",
              "ptratio     -0.668680454\n",
              "black        0.003612582\n",
              "lstat       -0.500911909"
            ]
          },
          "metadata": {},
          "output_type": "display_data"
        }
      ],
      "source": [
        "# Identify last five variables to remain in the model\n",
        "lasso_mod_opt <- glmnet(X, y, alpha = 1, lambda = .8)\n",
        "coef(lasso_mod_opt)"
      ]
    },
    {
      "attachments": {},
      "cell_type": "markdown",
      "metadata": {},
      "source": [
        "The last 5 variables in the model are chas (near the Charles River), rm (Avg # of rooms), ptratio (student-teacher ratio), black (proportion of black people), and lstat."
      ]
    },
    {
      "cell_type": "markdown",
      "metadata": {},
      "source": [
        "### HW-3.3.b:\n",
        "Find the 1SE value of $\\lambda$, using 10-fold cross-validation. What is the cross validation estimate for the residual standard error?"
      ]
    },
    {
      "cell_type": "code",
      "execution_count": 24,
      "metadata": {
        "vscode": {
          "languageId": "r"
        }
      },
      "outputs": [
        {
          "name": "stdout",
          "output_type": "stream",
          "text": [
            "Lambda:0.500917541268124\n",
            "RSE: 28.3814064219382\n"
          ]
        }
      ],
      "source": [
        "## Already did 10 fold CV above so get estimate from there\n",
        "lambda.1se <- lasso_mod$lambda.1se\n",
        "\n",
        "# compute cross-validation estimate of residual standard error\n",
        "rse <- lasso_mod$cvm[which(lasso_mod$lambda == lambda.1se)]\n",
        "cat(paste0(\"Lambda:\",lambda.1se, \"\\n\",\"RSE: \", rse, \"\\n\"))\n"
      ]
    },
    {
      "cell_type": "markdown",
      "metadata": {},
      "source": [
        "### HW-3.3.c: \n",
        "Rescale all predictors so that their mean is zero and their standard deviation is 1. Then set up the LASSO and plot the trajectories of all coefficients. What are the last five variables to remain in the model? Compare your answer to part a."
      ]
    },
    {
      "cell_type": "code",
      "execution_count": 25,
      "metadata": {
        "vscode": {
          "languageId": "r"
        }
      },
      "outputs": [
        {
          "data": {
            "image/png": "[encoded data removed]",
            "text/plain": [
              "plot without title"
            ]
          },
          "metadata": {
            "image/png": {
              "height": 420,
              "width": 420
            }
          },
          "output_type": "display_data"
        }
      ],
      "source": [
        "# Fit LASSO model\n",
        "X_s <- scale(X)\n",
        "y_s <- scale(y)\n",
        "lasso_mod_s <- cv.glmnet(X_s, y_s, alpha = 1, nfolds = 10)\n",
        "\n",
        "# Plot coefficient trajectories\n",
        "plot(lasso_mod_s$glmnet.fit, xvar = \"lambda\", label = TRUE)"
      ]
    },
    {
      "cell_type": "code",
      "execution_count": 26,
      "metadata": {
        "vscode": {
          "languageId": "r"
        }
      },
      "outputs": [
        {
          "data": {
            "text/plain": [
              "14 x 1 sparse Matrix of class \"dgCMatrix\"\n",
              "                       s0\n",
              "(Intercept) -1.718716e-16\n",
              "crim         .           \n",
              "zn           .           \n",
              "indus        .           \n",
              "chas         1.576664e-02\n",
              "nox          .           \n",
              "rm           3.055947e-01\n",
              "age          .           \n",
              "dis          .           \n",
              "rad          .           \n",
              "tax          .           \n",
              "ptratio     -1.558143e-01\n",
              "black        3.354449e-02\n",
              "lstat       -3.885851e-01"
            ]
          },
          "metadata": {},
          "output_type": "display_data"
        }
      ],
      "source": [
        "# Identify last five variables to remain in the model\n",
        "lasso_mod_opt <- glmnet(X_s, y_s, alpha = 1, lambda = .09)\n",
        "coef(lasso_mod_opt)"
      ]
    },
    {
      "attachments": {},
      "cell_type": "markdown",
      "metadata": {},
      "source": [
        "The last 5 variables are the same here and in part A indicating agreement that these variables are the crucial ones for determining median home value."
      ]
    },
    {
      "cell_type": "markdown",
      "metadata": {},
      "source": [
        "### HW-3.3.d: \n",
        "Find the 1SE value of $\\lambda$ using 10-fold cross-validation. What is the cross validation estimate for the residual standard error now? Does rescaling lead to a better performing model?"
      ]
    },
    {
      "cell_type": "code",
      "execution_count": 27,
      "metadata": {
        "vscode": {
          "languageId": "r"
        }
      },
      "outputs": [
        {
          "name": "stdout",
          "output_type": "stream",
          "text": [
            "Lambda:0.500917541268124\n",
            "RSE: 0.305067548626136\n"
          ]
        }
      ],
      "source": [
        "## Already did 10 fold CV above so get estimate from there\n",
        "lambda.1se_s <- lasso_mod_s$lambda.1se\n",
        "\n",
        "# compute cross-validation estimate of residual standard error\n",
        "rse <- lasso_mod_s$cvm[which(lasso_mod_s$lambda == lambda.1se_s)]\n",
        "cat(paste0(\"Lambda:\",lambda.1se, \"\\n\",\"RSE: \", rse, \"\\n\"))"
      ]
    },
    {
      "attachments": {},
      "cell_type": "markdown",
      "metadata": {},
      "source": [
        "Rescaling leads to a significantly lower lambda and RMSE, however it is difficult to compare model performance between these 2 because the rescaled values are all between -3 and 3 with a mean of 0 whereas the previous values were between 5 and 50 with a mean of 22. To do this better we should look at the correlation between the predictions and actual values. "
      ]
    },
    {
      "cell_type": "code",
      "execution_count": 28,
      "metadata": {
        "vscode": {
          "languageId": "r"
        }
      },
      "outputs": [
        {
          "data": {
            "image/png": "[encoded data removed]",
            "text/plain": [
              "Plot with title \"Scaled Pred vs. Actual\""
            ]
          },
          "metadata": {
            "image/png": {
              "height": 420,
              "width": 420
            }
          },
          "output_type": "display_data"
        }
      ],
      "source": [
        "par(mfrow = c(1,2))\n",
        "plot(y, predict(lasso_mod, newx = X, lambda = lambda.1se), main = \"Non Scaled Pred vs. Actual\", ylab = \"Pred\")\n",
        "plot(y_s, predict(lasso_mod_s, newx = X_s, lambda = lambda.1se_s), main = \"Scaled Pred vs. Actual\", ylab = \"Pred_S\")"
      ]
    },
    {
      "attachments": {},
      "cell_type": "markdown",
      "metadata": {},
      "source": [
        "Given the plots we can say that the models perform equally well, but the scaling does fit our predicted range into a smaller value range which can be helpful for data consistency across models."
      ]
    },
    {
      "cell_type": "markdown",
      "metadata": {},
      "source": [
        "## HW-3.4: Bike share usage\n",
        "\n",
        "Predict bike share usage in Seoul using ridge and LASSO regressions\n",
        "\n",
        "Access the [dataset here](https://archive.ics.uci.edu/ml/machine-learning-databases/00560/SeoulBikeData.csv). Filter the data to only include rows with \"`functioning days`\" == 'Yes'. Next drop the columns `Date`, `Hour`, `Seasons`, and `Holiday`, and `Functioning Day`. Then drop any rows that have any missing values in any columns. Hint: You will need to rename some of the variable names because they include non-ASCII characters. This will help you later on."
      ]
    },
    {
      "cell_type": "code",
      "execution_count": 1,
      "metadata": {
        "vscode": {
          "languageId": "r"
        }
      },
      "outputs": [
        {
          "data": {
            "text/html": [
              "<table class=\"dataframe\">\n",
              "<caption>A data.frame: 6 × 14</caption>\n",
              "<thead>\n",
              "\t<tr><th></th><th scope=col>Date</th><th scope=col>Rented.Bike.Count</th><th scope=col>Hour</th><th scope=col>Temperature..C.</th><th scope=col>Humidity...</th><th scope=col>Wind.speed..m.s.</th><th scope=col>Visibility..10m.</th><th scope=col>Dew.point.temperature..C.</th><th scope=col>Solar.Radiation..MJ.m2.</th><th scope=col>Rainfall.mm.</th><th scope=col>Snowfall..cm.</th><th scope=col>Seasons</th><th scope=col>Holiday</th><th scope=col>Functioning.Day</th></tr>\n",
              "\t<tr><th></th><th scope=col>&lt;chr&gt;</th><th scope=col>&lt;int&gt;</th><th scope=col>&lt;int&gt;</th><th scope=col>&lt;dbl&gt;</th><th scope=col>&lt;int&gt;</th><th scope=col>&lt;dbl&gt;</th><th scope=col>&lt;int&gt;</th><th scope=col>&lt;dbl&gt;</th><th scope=col>&lt;dbl&gt;</th><th scope=col>&lt;dbl&gt;</th><th scope=col>&lt;dbl&gt;</th><th scope=col>&lt;chr&gt;</th><th scope=col>&lt;chr&gt;</th><th scope=col>&lt;chr&gt;</th></tr>\n",
              "</thead>\n",
              "<tbody>\n",
              "\t<tr><th scope=row>1</th><td>01/12/2017</td><td>254</td><td>0</td><td>-5.2</td><td>37</td><td>2.2</td><td>2000</td><td>-17.6</td><td>0</td><td>0</td><td>0</td><td>Winter</td><td>No Holiday</td><td>Yes</td></tr>\n",
              "\t<tr><th scope=row>2</th><td>01/12/2017</td><td>204</td><td>1</td><td>-5.5</td><td>38</td><td>0.8</td><td>2000</td><td>-17.6</td><td>0</td><td>0</td><td>0</td><td>Winter</td><td>No Holiday</td><td>Yes</td></tr>\n",
              "\t<tr><th scope=row>3</th><td>01/12/2017</td><td>173</td><td>2</td><td>-6.0</td><td>39</td><td>1.0</td><td>2000</td><td>-17.7</td><td>0</td><td>0</td><td>0</td><td>Winter</td><td>No Holiday</td><td>Yes</td></tr>\n",
              "\t<tr><th scope=row>4</th><td>01/12/2017</td><td>107</td><td>3</td><td>-6.2</td><td>40</td><td>0.9</td><td>2000</td><td>-17.6</td><td>0</td><td>0</td><td>0</td><td>Winter</td><td>No Holiday</td><td>Yes</td></tr>\n",
              "\t<tr><th scope=row>5</th><td>01/12/2017</td><td> 78</td><td>4</td><td>-6.0</td><td>36</td><td>2.3</td><td>2000</td><td>-18.6</td><td>0</td><td>0</td><td>0</td><td>Winter</td><td>No Holiday</td><td>Yes</td></tr>\n",
              "\t<tr><th scope=row>6</th><td>01/12/2017</td><td>100</td><td>5</td><td>-6.4</td><td>37</td><td>1.5</td><td>2000</td><td>-18.7</td><td>0</td><td>0</td><td>0</td><td>Winter</td><td>No Holiday</td><td>Yes</td></tr>\n",
              "</tbody>\n",
              "</table>\n"
            ],
            "text/latex": [
              "A data.frame: 6 × 14\n",
              "\\begin{tabular}{r|llllllllllllll}\n",
              "  & Date & Rented.Bike.Count & Hour & Temperature..C. & Humidity... & Wind.speed..m.s. & Visibility..10m. & Dew.point.temperature..C. & Solar.Radiation..MJ.m2. & Rainfall.mm. & Snowfall..cm. & Seasons & Holiday & Functioning.Day\\\\\n",
              "  & <chr> & <int> & <int> & <dbl> & <int> & <dbl> & <int> & <dbl> & <dbl> & <dbl> & <dbl> & <chr> & <chr> & <chr>\\\\\n",
              "\\hline\n",
              "\t1 & 01/12/2017 & 254 & 0 & -5.2 & 37 & 2.2 & 2000 & -17.6 & 0 & 0 & 0 & Winter & No Holiday & Yes\\\\\n",
              "\t2 & 01/12/2017 & 204 & 1 & -5.5 & 38 & 0.8 & 2000 & -17.6 & 0 & 0 & 0 & Winter & No Holiday & Yes\\\\\n",
              "\t3 & 01/12/2017 & 173 & 2 & -6.0 & 39 & 1.0 & 2000 & -17.7 & 0 & 0 & 0 & Winter & No Holiday & Yes\\\\\n",
              "\t4 & 01/12/2017 & 107 & 3 & -6.2 & 40 & 0.9 & 2000 & -17.6 & 0 & 0 & 0 & Winter & No Holiday & Yes\\\\\n",
              "\t5 & 01/12/2017 &  78 & 4 & -6.0 & 36 & 2.3 & 2000 & -18.6 & 0 & 0 & 0 & Winter & No Holiday & Yes\\\\\n",
              "\t6 & 01/12/2017 & 100 & 5 & -6.4 & 37 & 1.5 & 2000 & -18.7 & 0 & 0 & 0 & Winter & No Holiday & Yes\\\\\n",
              "\\end{tabular}\n"
            ],
            "text/markdown": [
              "\n",
              "A data.frame: 6 × 14\n",
              "\n",
              "| <!--/--> | Date &lt;chr&gt; | Rented.Bike.Count &lt;int&gt; | Hour &lt;int&gt; | Temperature..C. &lt;dbl&gt; | Humidity... &lt;int&gt; | Wind.speed..m.s. &lt;dbl&gt; | Visibility..10m. &lt;int&gt; | Dew.point.temperature..C. &lt;dbl&gt; | Solar.Radiation..MJ.m2. &lt;dbl&gt; | Rainfall.mm. &lt;dbl&gt; | Snowfall..cm. &lt;dbl&gt; | Seasons &lt;chr&gt; | Holiday &lt;chr&gt; | Functioning.Day &lt;chr&gt; |\n",
              "|---|---|---|---|---|---|---|---|---|---|---|---|---|---|---|\n",
              "| 1 | 01/12/2017 | 254 | 0 | -5.2 | 37 | 2.2 | 2000 | -17.6 | 0 | 0 | 0 | Winter | No Holiday | Yes |\n",
              "| 2 | 01/12/2017 | 204 | 1 | -5.5 | 38 | 0.8 | 2000 | -17.6 | 0 | 0 | 0 | Winter | No Holiday | Yes |\n",
              "| 3 | 01/12/2017 | 173 | 2 | -6.0 | 39 | 1.0 | 2000 | -17.7 | 0 | 0 | 0 | Winter | No Holiday | Yes |\n",
              "| 4 | 01/12/2017 | 107 | 3 | -6.2 | 40 | 0.9 | 2000 | -17.6 | 0 | 0 | 0 | Winter | No Holiday | Yes |\n",
              "| 5 | 01/12/2017 |  78 | 4 | -6.0 | 36 | 2.3 | 2000 | -18.6 | 0 | 0 | 0 | Winter | No Holiday | Yes |\n",
              "| 6 | 01/12/2017 | 100 | 5 | -6.4 | 37 | 1.5 | 2000 | -18.7 | 0 | 0 | 0 | Winter | No Holiday | Yes |\n",
              "\n"
            ],
            "text/plain": [
              "  Date       Rented.Bike.Count Hour Temperature..C. Humidity...\n",
              "1 01/12/2017 254               0    -5.2            37         \n",
              "2 01/12/2017 204               1    -5.5            38         \n",
              "3 01/12/2017 173               2    -6.0            39         \n",
              "4 01/12/2017 107               3    -6.2            40         \n",
              "5 01/12/2017  78               4    -6.0            36         \n",
              "6 01/12/2017 100               5    -6.4            37         \n",
              "  Wind.speed..m.s. Visibility..10m. Dew.point.temperature..C.\n",
              "1 2.2              2000             -17.6                    \n",
              "2 0.8              2000             -17.6                    \n",
              "3 1.0              2000             -17.7                    \n",
              "4 0.9              2000             -17.6                    \n",
              "5 2.3              2000             -18.6                    \n",
              "6 1.5              2000             -18.7                    \n",
              "  Solar.Radiation..MJ.m2. Rainfall.mm. Snowfall..cm. Seasons Holiday   \n",
              "1 0                       0            0             Winter  No Holiday\n",
              "2 0                       0            0             Winter  No Holiday\n",
              "3 0                       0            0             Winter  No Holiday\n",
              "4 0                       0            0             Winter  No Holiday\n",
              "5 0                       0            0             Winter  No Holiday\n",
              "6 0                       0            0             Winter  No Holiday\n",
              "  Functioning.Day\n",
              "1 Yes            \n",
              "2 Yes            \n",
              "3 Yes            \n",
              "4 Yes            \n",
              "5 Yes            \n",
              "6 Yes            "
            ]
          },
          "metadata": {},
          "output_type": "display_data"
        }
      ],
      "source": [
        "# GET DATA\n",
        "\n",
        "bike <- read.csv('data/SeoulBikedata.csv')\n",
        "head(bike)"
      ]
    },
    {
      "cell_type": "code",
      "execution_count": 4,
      "metadata": {
        "vscode": {
          "languageId": "r"
        }
      },
      "outputs": [
        {
          "data": {
            "text/html": [
              "<table class=\"dataframe\">\n",
              "<caption>A data.frame: 6 × 9</caption>\n",
              "<thead>\n",
              "\t<tr><th></th><th scope=col>Rented.Bike.Count</th><th scope=col>Temperature..C.</th><th scope=col>Humidity...</th><th scope=col>Wind.speed..m.s.</th><th scope=col>Visibility..10m.</th><th scope=col>Dew.point.temperature..C.</th><th scope=col>Solar.Radiation..MJ.m2.</th><th scope=col>Rainfall.mm.</th><th scope=col>Snowfall..cm.</th></tr>\n",
              "\t<tr><th></th><th scope=col>&lt;int&gt;</th><th scope=col>&lt;dbl&gt;</th><th scope=col>&lt;int&gt;</th><th scope=col>&lt;dbl&gt;</th><th scope=col>&lt;int&gt;</th><th scope=col>&lt;dbl&gt;</th><th scope=col>&lt;dbl&gt;</th><th scope=col>&lt;dbl&gt;</th><th scope=col>&lt;dbl&gt;</th></tr>\n",
              "</thead>\n",
              "<tbody>\n",
              "\t<tr><th scope=row>1</th><td>254</td><td>-5.2</td><td>37</td><td>2.2</td><td>2000</td><td>-17.6</td><td>0</td><td>0</td><td>0</td></tr>\n",
              "\t<tr><th scope=row>2</th><td>204</td><td>-5.5</td><td>38</td><td>0.8</td><td>2000</td><td>-17.6</td><td>0</td><td>0</td><td>0</td></tr>\n",
              "\t<tr><th scope=row>3</th><td>173</td><td>-6.0</td><td>39</td><td>1.0</td><td>2000</td><td>-17.7</td><td>0</td><td>0</td><td>0</td></tr>\n",
              "\t<tr><th scope=row>4</th><td>107</td><td>-6.2</td><td>40</td><td>0.9</td><td>2000</td><td>-17.6</td><td>0</td><td>0</td><td>0</td></tr>\n",
              "\t<tr><th scope=row>5</th><td> 78</td><td>-6.0</td><td>36</td><td>2.3</td><td>2000</td><td>-18.6</td><td>0</td><td>0</td><td>0</td></tr>\n",
              "\t<tr><th scope=row>6</th><td>100</td><td>-6.4</td><td>37</td><td>1.5</td><td>2000</td><td>-18.7</td><td>0</td><td>0</td><td>0</td></tr>\n",
              "</tbody>\n",
              "</table>\n"
            ],
            "text/latex": [
              "A data.frame: 6 × 9\n",
              "\\begin{tabular}{r|lllllllll}\n",
              "  & Rented.Bike.Count & Temperature..C. & Humidity... & Wind.speed..m.s. & Visibility..10m. & Dew.point.temperature..C. & Solar.Radiation..MJ.m2. & Rainfall.mm. & Snowfall..cm.\\\\\n",
              "  & <int> & <dbl> & <int> & <dbl> & <int> & <dbl> & <dbl> & <dbl> & <dbl>\\\\\n",
              "\\hline\n",
              "\t1 & 254 & -5.2 & 37 & 2.2 & 2000 & -17.6 & 0 & 0 & 0\\\\\n",
              "\t2 & 204 & -5.5 & 38 & 0.8 & 2000 & -17.6 & 0 & 0 & 0\\\\\n",
              "\t3 & 173 & -6.0 & 39 & 1.0 & 2000 & -17.7 & 0 & 0 & 0\\\\\n",
              "\t4 & 107 & -6.2 & 40 & 0.9 & 2000 & -17.6 & 0 & 0 & 0\\\\\n",
              "\t5 &  78 & -6.0 & 36 & 2.3 & 2000 & -18.6 & 0 & 0 & 0\\\\\n",
              "\t6 & 100 & -6.4 & 37 & 1.5 & 2000 & -18.7 & 0 & 0 & 0\\\\\n",
              "\\end{tabular}\n"
            ],
            "text/markdown": [
              "\n",
              "A data.frame: 6 × 9\n",
              "\n",
              "| <!--/--> | Rented.Bike.Count &lt;int&gt; | Temperature..C. &lt;dbl&gt; | Humidity... &lt;int&gt; | Wind.speed..m.s. &lt;dbl&gt; | Visibility..10m. &lt;int&gt; | Dew.point.temperature..C. &lt;dbl&gt; | Solar.Radiation..MJ.m2. &lt;dbl&gt; | Rainfall.mm. &lt;dbl&gt; | Snowfall..cm. &lt;dbl&gt; |\n",
              "|---|---|---|---|---|---|---|---|---|---|\n",
              "| 1 | 254 | -5.2 | 37 | 2.2 | 2000 | -17.6 | 0 | 0 | 0 |\n",
              "| 2 | 204 | -5.5 | 38 | 0.8 | 2000 | -17.6 | 0 | 0 | 0 |\n",
              "| 3 | 173 | -6.0 | 39 | 1.0 | 2000 | -17.7 | 0 | 0 | 0 |\n",
              "| 4 | 107 | -6.2 | 40 | 0.9 | 2000 | -17.6 | 0 | 0 | 0 |\n",
              "| 5 |  78 | -6.0 | 36 | 2.3 | 2000 | -18.6 | 0 | 0 | 0 |\n",
              "| 6 | 100 | -6.4 | 37 | 1.5 | 2000 | -18.7 | 0 | 0 | 0 |\n",
              "\n"
            ],
            "text/plain": [
              "  Rented.Bike.Count Temperature..C. Humidity... Wind.speed..m.s.\n",
              "1 254               -5.2            37          2.2             \n",
              "2 204               -5.5            38          0.8             \n",
              "3 173               -6.0            39          1.0             \n",
              "4 107               -6.2            40          0.9             \n",
              "5  78               -6.0            36          2.3             \n",
              "6 100               -6.4            37          1.5             \n",
              "  Visibility..10m. Dew.point.temperature..C. Solar.Radiation..MJ.m2.\n",
              "1 2000             -17.6                     0                      \n",
              "2 2000             -17.6                     0                      \n",
              "3 2000             -17.7                     0                      \n",
              "4 2000             -17.6                     0                      \n",
              "5 2000             -18.6                     0                      \n",
              "6 2000             -18.7                     0                      \n",
              "  Rainfall.mm. Snowfall..cm.\n",
              "1 0            0            \n",
              "2 0            0            \n",
              "3 0            0            \n",
              "4 0            0            \n",
              "5 0            0            \n",
              "6 0            0            "
            ]
          },
          "metadata": {},
          "output_type": "display_data"
        }
      ],
      "source": [
        "## Filter to only functioning days and drop specified columns\n",
        "bike <- \n",
        "    bike %>%\n",
        "    filter(Functioning.Day == \"Yes\") %>%\n",
        "    subset(., select = -c(Date, Hour, Seasons, Holiday, Functioning.Day))\n",
        "head(bike)"
      ]
    },
    {
      "cell_type": "markdown",
      "metadata": {},
      "source": [
        "### HW-3.4.a: \n",
        "\n",
        "Run a linear regression to predict rented bike count using the remaining 8 variables in the dataset. Report the MSE and the most influential variables."
      ]
    },
    {
      "cell_type": "code",
      "execution_count": 5,
      "metadata": {
        "vscode": {
          "languageId": "r"
        }
      },
      "outputs": [
        {
          "data": {
            "text/plain": [
              "\n",
              "Call:\n",
              "lm(formula = Rented.Bike.Count ~ ., data = train_bike)\n",
              "\n",
              "Residuals:\n",
              "    Min      1Q  Median      3Q     Max \n",
              "-1392.3  -296.5   -57.7   204.8  2335.8 \n",
              "\n",
              "Coefficients:\n",
              "                            Estimate Std. Error t value Pr(>|t|)    \n",
              "(Intercept)                8.776e+02  1.170e+02   7.502 7.08e-14 ***\n",
              "Temperature..C.            3.574e+01  4.586e+00   7.792 7.58e-15 ***\n",
              "Humidity...               -1.092e+01  1.303e+00  -8.381  < 2e-16 ***\n",
              "Wind.speed..m.s.           5.193e+01  6.213e+00   8.359  < 2e-16 ***\n",
              "Visibility..10m.           2.971e-03  1.217e-02   0.244  0.80717    \n",
              "Dew.point.temperature..C.  9.560e-01  4.841e+00   0.197  0.84347    \n",
              "Solar.Radiation..MJ.m2.   -1.159e+02  9.608e+00 -12.065  < 2e-16 ***\n",
              "Rainfall.mm.              -5.181e+01  5.476e+00  -9.461  < 2e-16 ***\n",
              "Snowfall..cm.              3.775e+01  1.418e+01   2.663  0.00777 ** \n",
              "---\n",
              "Signif. codes:  0 '***' 0.001 '**' 0.01 '*' 0.05 '.' 0.1 ' ' 1\n",
              "\n",
              "Residual standard error: 487 on 6763 degrees of freedom\n",
              "Multiple R-squared:  0.4285,\tAdjusted R-squared:  0.4278 \n",
              "F-statistic: 633.8 on 8 and 6763 DF,  p-value: < 2.2e-16\n"
            ]
          },
          "metadata": {},
          "output_type": "display_data"
        },
        {
          "data": {
            "text/html": [
              "'MSE: 588471.275608821'"
            ],
            "text/latex": [
              "'MSE: 588471.275608821'"
            ],
            "text/markdown": [
              "'MSE: 588471.275608821'"
            ],
            "text/plain": [
              "[1] \"MSE: 588471.275608821\""
            ]
          },
          "metadata": {},
          "output_type": "display_data"
        }
      ],
      "source": [
        "## Running Linear Regression\n",
        "## Split into train and test\n",
        "indexes <- sample(1:nrow(bike), size = floor(nrow(bike) * .8))\n",
        "train_bike <- bike[indexes,]\n",
        "test_bike <- bike[!1:nrow(bike) %in% indexes, ]\n",
        "linear_mod <- lm(Rented.Bike.Count ~ ., data = train_bike)\n",
        "summary(linear_mod)\n",
        "\n",
        "## Getting the MSE\n",
        "pred <- predict(linear_mod, newx = test_bike)\n",
        "mse <- mean((test_bike$Rented.Bike.Count - pred)**2)\n",
        "paste(\"MSE:\", mse)"
      ]
    },
    {
      "attachments": {},
      "cell_type": "markdown",
      "metadata": {},
      "source": [
        "The most influential variables are Temperature, Humidity, Wind Speed, Solar Radiation, Rainfall, and Snowfall. The coefficients make sense in that warmer and less humid and rainy days would see more bike riders. We also see that solar radiation negatively influences the number of rented bikes."
      ]
    },
    {
      "cell_type": "markdown",
      "metadata": {},
      "source": [
        "### HW-3.4.b: \n",
        "\n",
        "Fit a ridge regression model with the optimal $\\lambda$ chosen by cross validation. Report the CV MSE."
      ]
    },
    {
      "cell_type": "code",
      "execution_count": 6,
      "metadata": {
        "vscode": {
          "languageId": "r"
        }
      },
      "outputs": [
        {
          "data": {
            "text/plain": [
              "9 x 1 sparse Matrix of class \"dgCMatrix\"\n",
              "                                    s0\n",
              "(Intercept)               825.21056019\n",
              "Temperature..C.            20.82179919\n",
              "Humidity...                -9.15202807\n",
              "Wind.speed..m.s.           46.25712034\n",
              "Visibility..10m.            0.05518653\n",
              "Dew.point.temperature..C.  10.22003866\n",
              "Solar.Radiation..MJ.m2.   -38.20738511\n",
              "Rainfall.mm.              -50.36691600\n",
              "Snowfall..cm.               1.53634309"
            ]
          },
          "metadata": {},
          "output_type": "display_data"
        },
        {
          "data": {
            "text/html": [
              "'CV MSE: 239351.270353133'"
            ],
            "text/latex": [
              "'CV MSE: 239351.270353133'"
            ],
            "text/markdown": [
              "'CV MSE: 239351.270353133'"
            ],
            "text/plain": [
              "[1] \"CV MSE: 239351.270353133\""
            ]
          },
          "metadata": {},
          "output_type": "display_data"
        }
      ],
      "source": [
        "## Making the model matrix\n",
        "X <- model.matrix(Rented.Bike.Count ~., data = bike)[,2:ncol(bike)]\n",
        "y <- bike$Rented.Bike.Count\n",
        "\n",
        "## Fitting the cv ridge regression\n",
        "ridge_mod <- cv.glmnet(X, y, alpha = 0, nfolds = 10)\n",
        "\n",
        "##Optimal lambda \n",
        "opt_lambda <- ridge_mod$lambda.1se\n",
        "\n",
        "## Fitting the optimal model\n",
        "opt_ridge_mod <- glmnet(X, y, alpha = 0, lambda = opt_lambda)\n",
        "coef(opt_ridge_mod)\n",
        "\n",
        "paste(\"CV MSE:\", ridge_mod$cvm[which(ridge_mod$lambda == opt_lambda)])"
      ]
    },
    {
      "attachments": {},
      "cell_type": "markdown",
      "metadata": {},
      "source": [
        "Here the higher magnitude coefficient values were shrunk a bit, and it did make a meaningful difference, cutting the MSE in more than half."
      ]
    },
    {
      "cell_type": "markdown",
      "metadata": {},
      "source": [
        "### HW-3.4.c: \n",
        "Perform the same fit using a LASSO regression this time. Choose the optimal $\\lambda$ using cross validation. Report on the remaining variables in the model and the CV MSE. How does this performance compare to ridge and a plain linear model?"
      ]
    },
    {
      "cell_type": "code",
      "execution_count": 8,
      "metadata": {
        "vscode": {
          "languageId": "r"
        }
      },
      "outputs": [
        {
          "data": {
            "text/plain": [
              "9 x 1 sparse Matrix of class \"dgCMatrix\"\n",
              "                                  s0\n",
              "(Intercept)               990.828129\n",
              "Temperature..C.            25.300926\n",
              "Humidity...               -11.806368\n",
              "Wind.speed..m.s.           51.778842\n",
              "Visibility..10m.            0.020184\n",
              "Dew.point.temperature..C.   9.957258\n",
              "Solar.Radiation..MJ.m2.   -88.391801\n",
              "Rainfall.mm.              -52.009557\n",
              "Snowfall..cm.              26.776054"
            ]
          },
          "metadata": {},
          "output_type": "display_data"
        },
        {
          "data": {
            "text/html": [
              "'CV MSE: 239552.171672287'"
            ],
            "text/latex": [
              "'CV MSE: 239552.171672287'"
            ],
            "text/markdown": [
              "'CV MSE: 239552.171672287'"
            ],
            "text/plain": [
              "[1] \"CV MSE: 239552.171672287\""
            ]
          },
          "metadata": {},
          "output_type": "display_data"
        }
      ],
      "source": [
        "## Fitting the cv lasso regression\n",
        "lasso_mod <- cv.glmnet(X, y, alpha = 1, nfolds = 10)\n",
        "\n",
        "##Optimal lambda \n",
        "opt_lambda <- lasso_mod$lambda.1se\n",
        "\n",
        "## Fitting the optimal model\n",
        "opt_ridge_mod <- glmnet(X, y, alpha = 0, lambda = opt_lambda)\n",
        "coef(opt_ridge_mod)\n",
        "\n",
        "paste(\"CV MSE:\", lasso_mod$cvm[which(lasso_mod$lambda == opt_lambda)])"
      ]
    },
    {
      "attachments": {},
      "cell_type": "markdown",
      "metadata": {},
      "source": [
        "None of the variables were fully eliminated by the lasso regression, although all of the coefficients were somewhat adjusted. The largest coefficients remain temperature, wind speed, solar radiation, and rainfall just like ridge and regular linear regression reported. With regard to accuracy, ridge regression did the best closely followed by lasso, and both well outperformed regular linear regression. The main commanalities that lead to the outperformance appear to be deemphasizing temperature, solar radiation, and snowfall."
      ]
    },
    {
      "attachments": {},
      "cell_type": "markdown",
      "metadata": {},
      "source": [
        "### HW-3.4.e: \n",
        "Interpretation and communication. Write a short paragraph about your analysis and recommendations, explaining the most important factors for high bike share usage, why you came to that conclusion, and what actions can be taken by a bike rental company based on this information.\n",
        "\n",
        "High bike share usage is largely determined by temperature, humidity, wind, and precipitation like rain and snow. Given the clear directionality and high magnitude of the coefficients in the regression, we can say that people are smart and have particular tastes about when they ride bikes. They rent 25 more bikes on average per degree Celsius warmer it is, doing more bike riding the more they want to be outside. We see a slight negative effect for humidity possibly indicating people prefer to minimize sweat potential and/or don't want to deal with slick seats, and we see a large negative effect based on rainfall for safety reasons. We also see that wind speeds lead to an increase in biking - indicating that when people know their hair is getting messed up, they might as well get wherever they are going faster. At first, it seemed that solar radiation might have a meaningful negative effect, but instead it actually has a very minimal effect, costing 88 bikes per radiation unit increase where the max unit is around 3. This means that only on the sunniest of sunny days will we see a real tail off in demand.\n",
        "\n",
        "Given this insight, I would suggest that bike rental companies look into focusing their bike supply in areas with consistently steady weather (minimizing storms as much as possible), allowing for less rainy days that sap bike riding demand. I would also suggest looking into some form of seat optimization technology to mitigate water on the seat surface - this will help mitigate the negative effects brought on by precipitation and humidity."
      ]
    },
    {
      "attachments": {},
      "cell_type": "markdown",
      "metadata": {},
      "source": [
        "\n",
        "\n",
        "## HW-3.5: Splines\n",
        "\n",
        "Compare the characteristics of two different smoothing splines\n",
        "\n",
        "Consider two curves called $\\hat{g}_1$ and $\\hat{g}_2$ are as follows:\n",
        "\n",
        "$$\n",
        "\\hat{g}_1 = argmin_g \\left(\\sum_{i=1}^n (y_i - g(x_i))^2 + \\lambda \\int [g^{(3)}(x)]^2 \\right)\n",
        "$$\n",
        "\n",
        "$$\n",
        "\\hat{g}_2 = argmin_g \\left(\\sum_{i=1}^n (y_i - g(x_i))^2 + \\lambda \\int [g^{(4)}(x)]^2 \\right)\n",
        "$$\n",
        "where $g^{(m)}$ represents the $m^{th}$ derivative of $g$.\n",
        "\n",
        "\n",
        "### HW-3.5.a: \n",
        "As $\\lambda \\to \\infty$, which function ($\\hat{g_1}$ or $\\hat{g_2}$) will have the smaller training RSS?\n",
        "\n",
        "<br>\n",
        "$\\hat{g}_1$ will have a smaller training RSS because as $\\lambda \\to \\infty$, the penalty term in both $\\hat{g}_1$ and $\\hat{g}_2$ becomes the main focus. The penalty term penalizes higher order derivatives of the function $g$ and creates increasingly smooth fits of the data. Since $\\hat{g}_2$ has a penalty on the fourth derivative of $g$, it will be smoother compared to $\\hat{g}_1$, which only has a penalty on the third derivative. Therefore, as $\\lambda$ increases, $\\hat{g}_2$ will be more likely to underfit the data, due to a smoother fit, compared to $\\hat{g}_1$, resulting in a larger training RSS for $\\hat{g}_2$.\n",
        "\n",
        "\n",
        "<br>\n",
        "\n",
        "### HW-3.5.b: \n",
        "As $\\lambda \\to \\infty$, which function ($\\hat{g_1}$ or $\\hat{g_2}$) will have the smaller test RSS?\n",
        "\n",
        "<br>\n",
        "\n",
        "The test RSS depends on the generalization ability of the model, which cannot be determined solely based on the value of $\\lambda$. In general, a larger value of $\\lambda$ can lead to better generalization performance by reducing overfitting. However, the optimal value of $\\lambda$ for each model can vary depending on the dataset. Therefore, we cannot determine which function will have a smaller test RSS without actually fitting the models on the test data. \n",
        "\n",
        "Given this however, I would expect the $\\hat{g}_1$ to have the smaller test RSS for the same reasons it will have the smaller training RSS, it is slightly less smooth and can capture more variation.\n",
        "\n",
        "<br>\n",
        "\n",
        "### HW-3.5.c: \n",
        "For $\\lambda = 0$, which function ($\\hat{g_1}$ or $\\hat{g_2}$) will have the smaller training and test RSS?\n",
        "\n",
        "<br>\n",
        "\n",
        "They will both have the same RSS because when $\\lambda = 0$, the penalty term becomes zero, and the two smoothing splines reduce to the OLS regression solution. Therefore, both $\\hat{g}_1$ and $\\hat{g}_2$ will have the same training and test RSS, and they will be equivalent to the OLS solution.\n",
        "\n",
        "<br>\n",
        "\n",
        "## HW-3.6: \n",
        "\n",
        "Explain the behavior of the curve for a variety of $\\lambda$ and $m$ values.\n",
        "\n",
        "Suppose a curve $\\hat{g}$ is fit smoothly to a set of $n$ points as follows:\n",
        "\n",
        "$$\n",
        "\\hat{g} = argmin_g \\left(\\sum_{i=1}^n (y_i - g(x_i))^2 + \\lambda \\int [g^{(m)}(x)]^2 \\right)\n",
        "$$\n",
        "\n",
        "where $g^{(m)}$ is the $m$th derivative of $\\hat{g}$ and $g^{(0)}=g$. Provide plots of $\\hat{g}$ in each of the following scenarios along with the original points provided.\n",
        "\n",
        "Use the following starter code to make your set of points and plot your various model predictions."
      ]
    },
    {
      "cell_type": "code",
      "execution_count": 3,
      "metadata": {
        "vscode": {
          "languageId": "r"
        }
      },
      "outputs": [
        {
          "data": {
            "image/png": "[encoded data removed]",
            "text/plain": [
              "plot without title"
            ]
          },
          "metadata": {
            "image/png": {
              "height": 420,
              "width": 420
            }
          },
          "output_type": "display_data"
        }
      ],
      "source": [
        "set.seed(325626)\n",
        "\n",
        "X <- runif(100)\n",
        "eps <- rnorm(100)\n",
        "Y <- sin(12*(X + 0.2)) / (X + 0.2) + eps\n",
        "generating_fn <- function(X) {sin(12*(X + 0.2)) / (X + 0.2)}\n",
        "df <- data.frame(X, Y)\n",
        "\n",
        "ggplot(df, aes(x = X, y = Y)) + \n",
        "  geom_point(alpha = 0.5) + \n",
        "  stat_function(fun = generating_fn, aes(col = \"Generating Function\")) + \n",
        "  scale_color_manual(values = \"deepskyblue3\") + \n",
        "  theme(legend.position = \"right\", legend.title = element_blank())"
      ]
    },
    {
      "cell_type": "markdown",
      "metadata": {},
      "source": [
        "### HW-3.6.a: \n",
        "$\\lambda = \\infty, m = 0$."
      ]
    },
    {
      "cell_type": "code",
      "execution_count": 72,
      "metadata": {
        "vscode": {
          "languageId": "r"
        }
      },
      "outputs": [
        {
          "ename": "ERROR",
          "evalue": "Error in pspline::smooth.Pspline(df$X, df$Y, norder = 0, spar = 10): Wrong value for NORDER\n",
          "output_type": "error",
          "traceback": [
            "Error in pspline::smooth.Pspline(df$X, df$Y, norder = 0, spar = 10): Wrong value for NORDER\nTraceback:\n",
            "1. pspline::smooth.Pspline(df$X, df$Y, norder = 0, spar = 10)",
            "2. stop(\"Wrong value for NORDER\")"
          ]
        }
      ],
      "source": []
    },
    {
      "cell_type": "markdown",
      "metadata": {},
      "source": [
        "### HW-3.6.b: \n",
        "$\\lambda = \\infty, m = 1$."
      ]
    },
    {
      "cell_type": "code",
      "execution_count": 64,
      "metadata": {
        "vscode": {
          "languageId": "r"
        }
      },
      "outputs": [
        {
          "ename": "ERROR",
          "evalue": "Error in smooth.Pspline(df$X, df$Y, order = 1, spar = Inf): unused argument (order = 1)\n",
          "output_type": "error",
          "traceback": [
            "Error in smooth.Pspline(df$X, df$Y, order = 1, spar = Inf): unused argument (order = 1)\nTraceback:\n"
          ]
        }
      ],
      "source": [
        "fit <- smooth.Pspline(df$X, df$Y, order = 1, spar = Inf)\n",
        "\n",
        "\n",
        "# Plot the data and the estimated function\n",
        "ggplot(df, aes(x = X, y = Y)) + \n",
        "  geom_point(alpha = 0.5) + \n",
        "  stat_function(fun = generating_fn, aes(col = \"Generating Function\")) + \n",
        "  geom_line(aes(y = predict(fit, df$X)$y, col = \"Spline\")) +\n",
        "  scale_color_manual(values = c(\"deepskyblue3\", \"red\")) + \n",
        "  theme(legend.position = \"right\", legend.title = element_blank()) "
      ]
    },
    {
      "cell_type": "markdown",
      "metadata": {},
      "source": [
        "### HW-3.6.c: \n",
        "$\\lambda = \\infty, m = 2$."
      ]
    },
    {
      "cell_type": "code",
      "execution_count": 27,
      "metadata": {
        "vscode": {
          "languageId": "r"
        }
      },
      "outputs": [],
      "source": [
        "# INSERT SOLUTION HERE "
      ]
    },
    {
      "cell_type": "markdown",
      "metadata": {},
      "source": [
        "### HW-3.6.d: \n",
        "$\\lambda = \\infty, m = 3$."
      ]
    },
    {
      "cell_type": "code",
      "execution_count": 28,
      "metadata": {
        "vscode": {
          "languageId": "r"
        }
      },
      "outputs": [],
      "source": [
        "# INSERT SOLUTION HERE "
      ]
    },
    {
      "cell_type": "markdown",
      "metadata": {},
      "source": [
        "### HW-3.6.e: \n",
        "$\\lambda = 0, m = 3$."
      ]
    },
    {
      "cell_type": "code",
      "execution_count": 29,
      "metadata": {
        "vscode": {
          "languageId": "r"
        }
      },
      "outputs": [],
      "source": [
        "# INSERT SOLUTION HERE "
      ]
    },
    {
      "cell_type": "markdown",
      "metadata": {},
      "source": [
        "### HW-3.6.f: \n",
        "Fit a smoothing spline on the dataset and report the optimal lambda"
      ]
    },
    {
      "cell_type": "code",
      "execution_count": 82,
      "metadata": {
        "vscode": {
          "languageId": "r"
        }
      },
      "outputs": [
        {
          "data": {
            "image/png": "[encoded data removed]",
            "text/plain": [
              "plot without title"
            ]
          },
          "metadata": {
            "image/png": {
              "height": 420,
              "width": 420
            }
          },
          "output_type": "display_data"
        }
      ],
      "source": [
        "plot(df$X, df$Y, pch=19)\n",
        "ss_fit <- smooth.spline(df$X,df$Y,cv=TRUE) \n",
        "lines(ss_fit,col=\"firebrick\", lwd=4)"
      ]
    },
    {
      "cell_type": "code",
      "execution_count": 83,
      "metadata": {
        "vscode": {
          "languageId": "r"
        }
      },
      "outputs": [
        {
          "data": {
            "text/plain": [
              "Call:\n",
              "smooth.spline(x = df$X, y = df$Y, cv = TRUE)\n",
              "\n",
              "Smoothing Parameter  spar= 0.747396  lambda= 0.0001052001 (12 iterations)\n",
              "Equivalent Degrees of Freedom (Df): 11.67057\n",
              "Penalized Criterion (RSS): 72.26631\n",
              "PRESS(l.o.o. CV): 0.9373877"
            ]
          },
          "metadata": {},
          "output_type": "display_data"
        }
      ],
      "source": [
        "ss_fit"
      ]
    },
    {
      "attachments": {},
      "cell_type": "markdown",
      "metadata": {},
      "source": [
        "The optimal lambda according to CV is 0.000105 indicating that we need a very flexible and wiggly spline to fit this data."
      ]
    }
  ],
  "metadata": {
    "kernelspec": {
      "display_name": "R",
      "language": "R",
      "name": "ir"
    },
    "language_info": {
      "codemirror_mode": "r",
      "file_extension": ".r",
      "mimetype": "text/x-r-source",
      "name": "R",
      "pygments_lexer": "r",
      "version": "4.2.1"
    }
  },
  "nbformat": 4,
  "nbformat_minor": 4
}
